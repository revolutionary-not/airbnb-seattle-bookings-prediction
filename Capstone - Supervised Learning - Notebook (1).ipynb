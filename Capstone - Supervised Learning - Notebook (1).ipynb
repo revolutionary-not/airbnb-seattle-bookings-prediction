{
 "cells": [
  {
   "cell_type": "markdown",
   "metadata": {},
   "source": [
    "## Problem Statement\n",
    "\n",
    "Dataset that I am working with, contains records of AirBnB bookings from Seattle. The link can be found here : \n",
    "https://www.kaggle.com/airbnb/seattle\n",
    "\n",
    "I am specifically working with the listings.csv file. The intent is to predict the business a property listed on AirBnB will generate. But since there is no such variable in the dataset, I will be using 'Reviews per month' as a proxy for the same. The assumption here is that total reviews garnered by a listing, is directly proportional to the number of bookings generated."
   ]
  },
  {
   "cell_type": "code",
   "execution_count": 3,
   "metadata": {},
   "outputs": [],
   "source": [
    "import pandas as pd\n",
    "import numpy as np\n",
    "import scipy\n",
    "import matplotlib.pyplot as plt\n",
    "from sklearn import tree\n",
    "from IPython.display import Image\n",
    "import pydotplus\n",
    "import graphviz\n",
    "import matplotlib.pyplot as plt\n",
    "%matplotlib inline"
   ]
  },
  {
   "cell_type": "code",
   "execution_count": 4,
   "metadata": {},
   "outputs": [],
   "source": [
    "# Reading in the datasets\n",
    "\n",
    "listings = pd.read_csv('/Users/hafiznadirshah/Desktop/Hafiz/Data_Science/AirBnB dataset/listings.csv')\n",
    "calendar = pd.read_csv('/Users/hafiznadirshah/Desktop/Hafiz/Data_Science/AirBnB dataset/calendar.csv')\n",
    "reviews = pd.read_csv('/Users/hafiznadirshah/Desktop/Hafiz/Data_Science/AirBnB dataset/reviews.csv')"
   ]
  },
  {
   "cell_type": "code",
   "execution_count": 5,
   "metadata": {
    "scrolled": true
   },
   "outputs": [
    {
     "name": "stdout",
     "output_type": "stream",
     "text": [
      "<class 'pandas.core.frame.DataFrame'>\n",
      "RangeIndex: 3818 entries, 0 to 3817\n",
      "Data columns (total 92 columns):\n",
      " #   Column                            Non-Null Count  Dtype  \n",
      "---  ------                            --------------  -----  \n",
      " 0   id                                3818 non-null   int64  \n",
      " 1   listing_url                       3818 non-null   object \n",
      " 2   scrape_id                         3818 non-null   int64  \n",
      " 3   last_scraped                      3818 non-null   object \n",
      " 4   name                              3818 non-null   object \n",
      " 5   summary                           3641 non-null   object \n",
      " 6   space                             3249 non-null   object \n",
      " 7   description                       3818 non-null   object \n",
      " 8   experiences_offered               3818 non-null   object \n",
      " 9   neighborhood_overview             2786 non-null   object \n",
      " 10  notes                             2212 non-null   object \n",
      " 11  transit                           2884 non-null   object \n",
      " 12  thumbnail_url                     3498 non-null   object \n",
      " 13  medium_url                        3498 non-null   object \n",
      " 14  picture_url                       3818 non-null   object \n",
      " 15  xl_picture_url                    3498 non-null   object \n",
      " 16  host_id                           3818 non-null   int64  \n",
      " 17  host_url                          3818 non-null   object \n",
      " 18  host_name                         3816 non-null   object \n",
      " 19  host_since                        3816 non-null   object \n",
      " 20  host_location                     3810 non-null   object \n",
      " 21  host_about                        2959 non-null   object \n",
      " 22  host_response_time                3295 non-null   object \n",
      " 23  host_response_rate                3295 non-null   object \n",
      " 24  host_acceptance_rate              3045 non-null   object \n",
      " 25  host_is_superhost                 3816 non-null   object \n",
      " 26  host_thumbnail_url                3816 non-null   object \n",
      " 27  host_picture_url                  3816 non-null   object \n",
      " 28  host_neighbourhood                3518 non-null   object \n",
      " 29  host_listings_count               3816 non-null   float64\n",
      " 30  host_total_listings_count         3816 non-null   float64\n",
      " 31  host_verifications                3818 non-null   object \n",
      " 32  host_has_profile_pic              3816 non-null   object \n",
      " 33  host_identity_verified            3816 non-null   object \n",
      " 34  street                            3818 non-null   object \n",
      " 35  neighbourhood                     3402 non-null   object \n",
      " 36  neighbourhood_cleansed            3818 non-null   object \n",
      " 37  neighbourhood_group_cleansed      3818 non-null   object \n",
      " 38  city                              3818 non-null   object \n",
      " 39  state                             3818 non-null   object \n",
      " 40  zipcode                           3811 non-null   object \n",
      " 41  market                            3818 non-null   object \n",
      " 42  smart_location                    3818 non-null   object \n",
      " 43  country_code                      3818 non-null   object \n",
      " 44  country                           3818 non-null   object \n",
      " 45  latitude                          3818 non-null   float64\n",
      " 46  longitude                         3818 non-null   float64\n",
      " 47  is_location_exact                 3818 non-null   object \n",
      " 48  property_type                     3817 non-null   object \n",
      " 49  room_type                         3818 non-null   object \n",
      " 50  accommodates                      3818 non-null   int64  \n",
      " 51  bathrooms                         3802 non-null   float64\n",
      " 52  bedrooms                          3812 non-null   float64\n",
      " 53  beds                              3817 non-null   float64\n",
      " 54  bed_type                          3818 non-null   object \n",
      " 55  amenities                         3818 non-null   object \n",
      " 56  square_feet                       97 non-null     float64\n",
      " 57  price                             3818 non-null   object \n",
      " 58  weekly_price                      2009 non-null   object \n",
      " 59  monthly_price                     1517 non-null   object \n",
      " 60  security_deposit                  1866 non-null   object \n",
      " 61  cleaning_fee                      2788 non-null   object \n",
      " 62  guests_included                   3818 non-null   int64  \n",
      " 63  extra_people                      3818 non-null   object \n",
      " 64  minimum_nights                    3818 non-null   int64  \n",
      " 65  maximum_nights                    3818 non-null   int64  \n",
      " 66  calendar_updated                  3818 non-null   object \n",
      " 67  has_availability                  3818 non-null   object \n",
      " 68  availability_30                   3818 non-null   int64  \n",
      " 69  availability_60                   3818 non-null   int64  \n",
      " 70  availability_90                   3818 non-null   int64  \n",
      " 71  availability_365                  3818 non-null   int64  \n",
      " 72  calendar_last_scraped             3818 non-null   object \n",
      " 73  number_of_reviews                 3818 non-null   int64  \n",
      " 74  first_review                      3191 non-null   object \n",
      " 75  last_review                       3191 non-null   object \n",
      " 76  review_scores_rating              3171 non-null   float64\n",
      " 77  review_scores_accuracy            3160 non-null   float64\n",
      " 78  review_scores_cleanliness         3165 non-null   float64\n",
      " 79  review_scores_checkin             3160 non-null   float64\n",
      " 80  review_scores_communication       3167 non-null   float64\n",
      " 81  review_scores_location            3163 non-null   float64\n",
      " 82  review_scores_value               3162 non-null   float64\n",
      " 83  requires_license                  3818 non-null   object \n",
      " 84  license                           0 non-null      float64\n",
      " 85  jurisdiction_names                3818 non-null   object \n",
      " 86  instant_bookable                  3818 non-null   object \n",
      " 87  cancellation_policy               3818 non-null   object \n",
      " 88  require_guest_profile_picture     3818 non-null   object \n",
      " 89  require_guest_phone_verification  3818 non-null   object \n",
      " 90  calculated_host_listings_count    3818 non-null   int64  \n",
      " 91  reviews_per_month                 3191 non-null   float64\n",
      "dtypes: float64(17), int64(13), object(62)\n",
      "memory usage: 2.7+ MB\n"
     ]
    }
   ],
   "source": [
    "# Checking the columns\n",
    "\n",
    "listings.info()"
   ]
  },
  {
   "cell_type": "code",
   "execution_count": 6,
   "metadata": {},
   "outputs": [],
   "source": [
    "# Dropping the columns that won't affect the ratings - a mix of intuition and educated guesses\n",
    "# Dropping columns with repetition and not enough relevant data\n",
    "# Also removing the comments section, since I do not intend to do sentiment analysis\n",
    "\n",
    "properties = listings.copy()\n",
    "\n",
    "properties.drop(['listing_url', 'scrape_id', 'last_scraped', 'name', 'summary',\n",
    "       'space', 'description', 'experiences_offered', 'neighborhood_overview', \n",
    "                'notes', 'transit', 'thumbnail_url', 'medium_url', 'picture_url',\n",
    "       'xl_picture_url', 'host_url', 'host_name', 'host_location', 'host_about', \n",
    "                 'host_thumbnail_url', 'host_picture_url', 'host_neighbourhood', \n",
    "                'host_verifications', 'street', 'neighbourhood', 'city', 'state', 'zipcode',\n",
    "                 'market', 'smart_location', 'country_code', 'country', 'has_availability',\n",
    "                'calendar_last_scraped', 'requires_license', 'license', 'jurisdiction_names', 'id', 'host_id', 'host_acceptance_rate', 'host_total_listings_count', 'host_has_profile_pic', \n",
    "         'neighbourhood_cleansed', 'amenities', 'square_feet', 'first_review', 'last_review'], axis=1, inplace=True)"
   ]
  },
  {
   "cell_type": "code",
   "execution_count": 7,
   "metadata": {
    "scrolled": true
   },
   "outputs": [
    {
     "name": "stdout",
     "output_type": "stream",
     "text": [
      "<class 'pandas.core.frame.DataFrame'>\n",
      "RangeIndex: 3818 entries, 0 to 3817\n",
      "Data columns (total 45 columns):\n",
      " #   Column                            Non-Null Count  Dtype  \n",
      "---  ------                            --------------  -----  \n",
      " 0   host_since                        3816 non-null   object \n",
      " 1   host_response_time                3295 non-null   object \n",
      " 2   host_response_rate                3295 non-null   object \n",
      " 3   host_is_superhost                 3816 non-null   object \n",
      " 4   host_listings_count               3816 non-null   float64\n",
      " 5   host_identity_verified            3816 non-null   object \n",
      " 6   neighbourhood_group_cleansed      3818 non-null   object \n",
      " 7   latitude                          3818 non-null   float64\n",
      " 8   longitude                         3818 non-null   float64\n",
      " 9   is_location_exact                 3818 non-null   object \n",
      " 10  property_type                     3817 non-null   object \n",
      " 11  room_type                         3818 non-null   object \n",
      " 12  accommodates                      3818 non-null   int64  \n",
      " 13  bathrooms                         3802 non-null   float64\n",
      " 14  bedrooms                          3812 non-null   float64\n",
      " 15  beds                              3817 non-null   float64\n",
      " 16  bed_type                          3818 non-null   object \n",
      " 17  price                             3818 non-null   object \n",
      " 18  weekly_price                      2009 non-null   object \n",
      " 19  monthly_price                     1517 non-null   object \n",
      " 20  security_deposit                  1866 non-null   object \n",
      " 21  cleaning_fee                      2788 non-null   object \n",
      " 22  guests_included                   3818 non-null   int64  \n",
      " 23  extra_people                      3818 non-null   object \n",
      " 24  minimum_nights                    3818 non-null   int64  \n",
      " 25  maximum_nights                    3818 non-null   int64  \n",
      " 26  calendar_updated                  3818 non-null   object \n",
      " 27  availability_30                   3818 non-null   int64  \n",
      " 28  availability_60                   3818 non-null   int64  \n",
      " 29  availability_90                   3818 non-null   int64  \n",
      " 30  availability_365                  3818 non-null   int64  \n",
      " 31  number_of_reviews                 3818 non-null   int64  \n",
      " 32  review_scores_rating              3171 non-null   float64\n",
      " 33  review_scores_accuracy            3160 non-null   float64\n",
      " 34  review_scores_cleanliness         3165 non-null   float64\n",
      " 35  review_scores_checkin             3160 non-null   float64\n",
      " 36  review_scores_communication       3167 non-null   float64\n",
      " 37  review_scores_location            3163 non-null   float64\n",
      " 38  review_scores_value               3162 non-null   float64\n",
      " 39  instant_bookable                  3818 non-null   object \n",
      " 40  cancellation_policy               3818 non-null   object \n",
      " 41  require_guest_profile_picture     3818 non-null   object \n",
      " 42  require_guest_phone_verification  3818 non-null   object \n",
      " 43  calculated_host_listings_count    3818 non-null   int64  \n",
      " 44  reviews_per_month                 3191 non-null   float64\n",
      "dtypes: float64(14), int64(10), object(21)\n",
      "memory usage: 1.3+ MB\n"
     ]
    }
   ],
   "source": [
    "properties.info()"
   ]
  },
  {
   "cell_type": "code",
   "execution_count": 8,
   "metadata": {},
   "outputs": [
    {
     "name": "stdout",
     "output_type": "stream",
     "text": [
      "<class 'pandas.core.frame.DataFrame'>\n",
      "Int64Index: 3191 entries, 0 to 3814\n",
      "Data columns (total 45 columns):\n",
      " #   Column                            Non-Null Count  Dtype  \n",
      "---  ------                            --------------  -----  \n",
      " 0   host_since                        3191 non-null   object \n",
      " 1   host_response_time                2871 non-null   object \n",
      " 2   host_response_rate                2871 non-null   object \n",
      " 3   host_is_superhost                 3191 non-null   object \n",
      " 4   host_listings_count               3191 non-null   float64\n",
      " 5   host_identity_verified            3191 non-null   object \n",
      " 6   neighbourhood_group_cleansed      3191 non-null   object \n",
      " 7   latitude                          3191 non-null   float64\n",
      " 8   longitude                         3191 non-null   float64\n",
      " 9   is_location_exact                 3191 non-null   object \n",
      " 10  property_type                     3191 non-null   object \n",
      " 11  room_type                         3191 non-null   object \n",
      " 12  accommodates                      3191 non-null   int64  \n",
      " 13  bathrooms                         3179 non-null   float64\n",
      " 14  bedrooms                          3185 non-null   float64\n",
      " 15  beds                              3191 non-null   float64\n",
      " 16  bed_type                          3191 non-null   object \n",
      " 17  price                             3191 non-null   object \n",
      " 18  weekly_price                      1800 non-null   object \n",
      " 19  monthly_price                     1361 non-null   object \n",
      " 20  security_deposit                  1616 non-null   object \n",
      " 21  cleaning_fee                      2423 non-null   object \n",
      " 22  guests_included                   3191 non-null   int64  \n",
      " 23  extra_people                      3191 non-null   object \n",
      " 24  minimum_nights                    3191 non-null   int64  \n",
      " 25  maximum_nights                    3191 non-null   int64  \n",
      " 26  calendar_updated                  3191 non-null   object \n",
      " 27  availability_30                   3191 non-null   int64  \n",
      " 28  availability_60                   3191 non-null   int64  \n",
      " 29  availability_90                   3191 non-null   int64  \n",
      " 30  availability_365                  3191 non-null   int64  \n",
      " 31  number_of_reviews                 3191 non-null   int64  \n",
      " 32  review_scores_rating              3171 non-null   float64\n",
      " 33  review_scores_accuracy            3160 non-null   float64\n",
      " 34  review_scores_cleanliness         3165 non-null   float64\n",
      " 35  review_scores_checkin             3160 non-null   float64\n",
      " 36  review_scores_communication       3167 non-null   float64\n",
      " 37  review_scores_location            3163 non-null   float64\n",
      " 38  review_scores_value               3162 non-null   float64\n",
      " 39  instant_bookable                  3191 non-null   object \n",
      " 40  cancellation_policy               3191 non-null   object \n",
      " 41  require_guest_profile_picture     3191 non-null   object \n",
      " 42  require_guest_phone_verification  3191 non-null   object \n",
      " 43  calculated_host_listings_count    3191 non-null   int64  \n",
      " 44  reviews_per_month                 3191 non-null   float64\n",
      "dtypes: float64(14), int64(10), object(21)\n",
      "memory usage: 1.1+ MB\n"
     ]
    }
   ],
   "source": [
    "# dropping rows which do not have the target variable\n",
    "\n",
    "properties.dropna(subset=['reviews_per_month'], inplace=True)\n",
    "properties.info()"
   ]
  },
  {
   "cell_type": "code",
   "execution_count": 9,
   "metadata": {},
   "outputs": [],
   "source": [
    "# filling missing host_response_time with random values\n",
    "\n",
    "fill_list = ['within a few hours', 'within an hour', 'within a day', 'a few days or more']\n",
    "mask = properties['host_response_time'].isnull()\n",
    "nulls_length = mask.sum()\n",
    "filled_values = np.random.choice(fill_list, size=nulls_length)\n",
    "\n",
    "properties.loc[mask, 'host_response_time'] = filled_values"
   ]
  },
  {
   "cell_type": "code",
   "execution_count": 10,
   "metadata": {},
   "outputs": [],
   "source": [
    "# changing host response rate\n",
    "\n",
    "properties['host_response_rate'] = properties['host_response_rate'].str.replace('%', '').astype(float)\n",
    "properties['host_response_rate'] = properties['host_response_rate']/100\n",
    "\n",
    "mask_rr = properties['host_response_rate'].isnull()\n",
    "properties.loc[mask_rr, 'host_response_rate'] = properties['host_response_rate'].mean()"
   ]
  },
  {
   "cell_type": "code",
   "execution_count": 11,
   "metadata": {},
   "outputs": [],
   "source": [
    "# filling missing bathrooms and bedrooms values with most dominant number - 1\n",
    "\n",
    "properties.loc[properties['bathrooms'].isnull(), 'bathrooms'] = 1\n",
    "properties.loc[properties['bedrooms'].isnull(), 'bedrooms'] = 1"
   ]
  },
  {
   "cell_type": "code",
   "execution_count": 12,
   "metadata": {},
   "outputs": [],
   "source": [
    "# filling missing values of weekly, monthly price, security deposit, cleaning fee\n",
    "# with multiples 6.5, 21.5, 2 and 0.4 on price - the mean multiple on price\n",
    "\n",
    "properties['price'] = properties['price'].str.replace('$', '')\n",
    "properties['price'] = properties['price'].str.replace(',', '').astype(float)\n",
    "\n",
    "properties['weekly_price'] = properties['weekly_price'].str.replace('$', '')\n",
    "properties['weekly_price'] = properties['weekly_price'].str.replace(',', '').astype(float)\n",
    "\n",
    "properties['monthly_price'] = properties['monthly_price'].str.replace('$', '')\n",
    "properties['monthly_price'] = properties['monthly_price'].str.replace(',', '').astype(float)\n",
    "\n",
    "properties['security_deposit'] = properties['security_deposit'].str.replace('$', '')\n",
    "properties['security_deposit'] = properties['security_deposit'].str.replace(',', '').astype(float)\n",
    "\n",
    "properties['cleaning_fee'] = properties['cleaning_fee'].str.replace('$', '')\n",
    "properties['cleaning_fee'] = properties['cleaning_fee'].str.replace(',', '').astype(float)\n",
    "\n",
    "\n",
    "properties.loc[properties['weekly_price'].isnull(), 'weekly_price'] = properties.loc[properties['weekly_price'].isnull(), 'price'] * 6.5\n",
    "properties.loc[properties['monthly_price'].isnull(), 'monthly_price'] = properties.loc[properties['monthly_price'].isnull(), 'price'] * 21.5\n",
    "properties.loc[properties['security_deposit'].isnull(), 'security_deposit'] = properties.loc[properties['security_deposit'].isnull(), 'price'] * 2\n",
    "properties.loc[properties['cleaning_fee'].isnull(), 'cleaning_fee'] = properties.loc[properties['cleaning_fee'].isnull(), 'price'] * 0.4\n"
   ]
  },
  {
   "cell_type": "code",
   "execution_count": 13,
   "metadata": {},
   "outputs": [],
   "source": [
    "# converting extra_people into number\n",
    "\n",
    "properties['extra_people'] = properties['extra_people'].str.replace('$', '').astype(float)"
   ]
  },
  {
   "cell_type": "code",
   "execution_count": 14,
   "metadata": {},
   "outputs": [],
   "source": [
    "# changing the host_since column to numeric value - no. of days from today\n",
    "\n",
    "properties['host_since'] = pd.to_datetime(properties['host_since'])\n",
    "\n",
    "from datetime import datetime\n",
    "properties['host_since'] = properties['host_since'].apply(lambda x: (datetime.now() - x).days)"
   ]
  },
  {
   "cell_type": "code",
   "execution_count": 15,
   "metadata": {},
   "outputs": [
    {
     "data": {
      "image/png": "[encoded data removed]",
      "text/plain": [
       "<Figure size 720x1080 with 13 Axes>"
      ]
     },
     "metadata": {
      "needs_background": "light"
     },
     "output_type": "display_data"
    }
   ],
   "source": [
    "# Checking whether there is a meaningful difference in reviews_per_month between classes of categorical variables\n",
    "\n",
    "categorical_cols = properties.select_dtypes(['object']).columns\n",
    "\n",
    "plt.figure(figsize=(10, 15))\n",
    "for i, col in enumerate(categorical_cols):\n",
    "    plt.subplot(5, 3, i+1)\n",
    "    plt.bar(properties[col], properties['reviews_per_month'])\n",
    "    plt.title(f'{col} vs reviews')\n",
    "    plt.xlabel(f'{col}')\n",
    "    plt.ylabel('Reviews per month')\n",
    "    plt.tight_layout()    \n",
    "\n",
    "plt.show()"
   ]
  },
  {
   "cell_type": "markdown",
   "metadata": {},
   "source": [
    "### There looks to be a difference between classes, so not dropping any."
   ]
  },
  {
   "cell_type": "markdown",
   "metadata": {},
   "source": [
    "### Checking to see whethere there are classes with very low number of observations"
   ]
  },
  {
   "cell_type": "code",
   "execution_count": 16,
   "metadata": {},
   "outputs": [
    {
     "name": "stdout",
     "output_type": "stream",
     "text": [
      "For column : host_response_time\n",
      "---------------------\n",
      "Number of rows for within a few hours is : 917\n",
      "Number of rows for within an hour is : 1609\n",
      "Number of rows for a few days or more is : 101\n",
      "Number of rows for within a day is : 564\n",
      "\n",
      "\n",
      "For column : host_is_superhost\n",
      "---------------------\n",
      "Number of rows for f is : 2440\n",
      "Number of rows for t is : 751\n",
      "\n",
      "\n",
      "For column : host_identity_verified\n",
      "---------------------\n",
      "Number of rows for t is : 2617\n",
      "Number of rows for f is : 574\n",
      "\n",
      "\n",
      "For column : neighbourhood_group_cleansed\n",
      "---------------------\n",
      "Number of rows for Queen Anne is : 248\n",
      "Number of rows for Ballard is : 193\n",
      "Number of rows for Other neighborhoods is : 664\n",
      "Number of rows for Cascade is : 65\n",
      "Number of rows for Central Area is : 320\n",
      "Number of rows for University District is : 98\n",
      "Number of rows for Downtown is : 458\n",
      "Number of rows for Magnolia is : 47\n",
      "Number of rows for West Seattle is : 164\n",
      "Number of rows for Interbay is : 9\n",
      "Number of rows for Beacon Hill is : 103\n",
      "Number of rows for Rainier Valley is : 134\n",
      "Number of rows for Delridge is : 65\n",
      "Number of rows for Seward Park is : 39\n",
      "Number of rows for Northgate is : 66\n",
      "Number of rows for Capitol Hill is : 462\n",
      "Number of rows for Lake City is : 56\n",
      "\n",
      "\n",
      "For column : is_location_exact\n",
      "---------------------\n",
      "Number of rows for t is : 2891\n",
      "Number of rows for f is : 300\n",
      "\n",
      "\n",
      "For column : property_type\n",
      "---------------------\n",
      "Number of rows for Apartment is : 1439\n",
      "Number of rows for House is : 1466\n",
      "Number of rows for Cabin is : 21\n",
      "Number of rows for Condominium is : 69\n",
      "Number of rows for Camper/RV is : 10\n",
      "Number of rows for Bungalow is : 9\n",
      "Number of rows for Townhouse is : 82\n",
      "Number of rows for Loft is : 34\n",
      "Number of rows for Boat is : 5\n",
      "Number of rows for Bed & Breakfast is : 26\n",
      "Number of rows for Other is : 19\n",
      "Number of rows for Dorm is : 2\n",
      "Number of rows for Yurt is : 1\n",
      "Number of rows for Chalet is : 2\n",
      "Number of rows for Tent is : 4\n",
      "Number of rows for Treehouse is : 2\n",
      "\n",
      "\n",
      "For column : room_type\n",
      "---------------------\n",
      "Number of rows for Entire home/apt is : 2141\n",
      "Number of rows for Private room is : 957\n",
      "Number of rows for Shared room is : 93\n",
      "\n",
      "\n",
      "For column : bed_type\n",
      "---------------------\n",
      "Number of rows for Real Bed is : 3063\n",
      "Number of rows for Futon is : 63\n",
      "Number of rows for Pull-out Sofa is : 39\n",
      "Number of rows for Airbed is : 18\n",
      "Number of rows for Couch is : 8\n",
      "\n",
      "\n",
      "For column : calendar_updated\n",
      "---------------------\n",
      "Number of rows for 4 weeks ago is : 179\n",
      "Number of rows for today is : 632\n",
      "Number of rows for 5 weeks ago is : 130\n",
      "Number of rows for 7 weeks ago is : 50\n",
      "Number of rows for 2 weeks ago is : 293\n",
      "Number of rows for yesterday is : 206\n",
      "Number of rows for 5 months ago is : 77\n",
      "Number of rows for a week ago is : 211\n",
      "Number of rows for 5 days ago is : 117\n",
      "Number of rows for 3 days ago is : 143\n",
      "Number of rows for 2 months ago is : 212\n",
      "Number of rows for 3 months ago is : 166\n",
      "Number of rows for 4 days ago is : 121\n",
      "Number of rows for 2 days ago is : 83\n",
      "Number of rows for 3 weeks ago is : 254\n",
      "Number of rows for 1 week ago is : 22\n",
      "Number of rows for 6 weeks ago is : 92\n",
      "Number of rows for 4 months ago is : 108\n",
      "Number of rows for 6 days ago is : 23\n",
      "Number of rows for never is : 5\n",
      "Number of rows for 6 months ago is : 24\n",
      "Number of rows for 10 months ago is : 4\n",
      "Number of rows for 14 months ago is : 1\n",
      "Number of rows for 8 months ago is : 10\n",
      "Number of rows for 7 months ago is : 18\n",
      "Number of rows for 30 months ago is : 1\n",
      "Number of rows for 9 months ago is : 4\n",
      "Number of rows for 11 months ago is : 2\n",
      "Number of rows for 22 months ago is : 1\n",
      "Number of rows for 12 months ago is : 1\n",
      "Number of rows for 13 months ago is : 1\n",
      "\n",
      "\n",
      "For column : instant_bookable\n",
      "---------------------\n",
      "Number of rows for f is : 2649\n",
      "Number of rows for t is : 542\n",
      "\n",
      "\n",
      "For column : cancellation_policy\n",
      "---------------------\n",
      "Number of rows for moderate is : 1140\n",
      "Number of rows for strict is : 1263\n",
      "Number of rows for flexible is : 788\n",
      "\n",
      "\n",
      "For column : require_guest_profile_picture\n",
      "---------------------\n",
      "Number of rows for f is : 2896\n",
      "Number of rows for t is : 295\n",
      "\n",
      "\n",
      "For column : require_guest_phone_verification\n",
      "---------------------\n",
      "Number of rows for f is : 2843\n",
      "Number of rows for t is : 348\n",
      "\n",
      "\n"
     ]
    }
   ],
   "source": [
    "for col in categorical_cols:\n",
    "    \n",
    "    categories = properties[col].unique()\n",
    "    print(f\"For column : {col}\")\n",
    "    print('---------------------')\n",
    "    for cat in categories:\n",
    "        print(f\"Number of rows for {cat} is : {len(properties[properties[col] == cat])}\")\n",
    "    print('\\n')"
   ]
  },
  {
   "cell_type": "markdown",
   "metadata": {},
   "source": [
    "Dropping the following categories with low observations < 10, after one-hot encoding:\n",
    "\n",
    "- neighbourhood_group_cleansed : Interbay\n",
    "- property_type : Bungalow, Boat, Dorm, Yurt, Chalet, Tent, Treehouse\n",
    "- bed_type : Couch\n",
    "- calendar_updated : never, 10 months ago, 14 months ago, 30 months ago, 9 months ago, 11 months ago, 22 months ago, 12 months ago, 13 months ago\n",
    "\n",
    "Encoding as 1-0, the following columns, instead of one-hpt encoding, due to binary categories :\n",
    "\n",
    "- host_is_superhost, host_identity_verified, is_location_exact, instant_bookable, require_guest_profile_picture, require_guest_phone_verification"
   ]
  },
  {
   "cell_type": "code",
   "execution_count": 17,
   "metadata": {},
   "outputs": [],
   "source": [
    "# Changing binary variables to single\n",
    "\n",
    "properties['host_is_superhost'] = np.where(properties['host_is_superhost'] =='t', 1, 0)\n",
    "properties['host_identity_verified'] = np.where(properties['host_identity_verified'] == 't', 1, 0)\n",
    "properties['is_location_exact'] = np.where(properties['is_location_exact'] == 't', 1, 0)\n",
    "properties['instant_bookable'] = np.where(properties['instant_bookable'] == 't', 1, 0)\n",
    "properties['require_guest_profile_picture'] = np.where(properties['require_guest_profile_picture'] == 't', 1, 0)\n",
    "properties['require_guest_phone_verification'] = np.where(properties['require_guest_phone_verification'] == 't', 1, 0)"
   ]
  },
  {
   "cell_type": "code",
   "execution_count": 18,
   "metadata": {},
   "outputs": [
    {
     "name": "stdout",
     "output_type": "stream",
     "text": [
      "<class 'pandas.core.frame.DataFrame'>\n",
      "Int64Index: 3191 entries, 0 to 3814\n",
      "Data columns (total 45 columns):\n",
      " #   Column                            Non-Null Count  Dtype  \n",
      "---  ------                            --------------  -----  \n",
      " 0   host_since                        3191 non-null   int64  \n",
      " 1   host_response_time                3191 non-null   object \n",
      " 2   host_response_rate                3191 non-null   float64\n",
      " 3   host_is_superhost                 3191 non-null   int64  \n",
      " 4   host_listings_count               3191 non-null   float64\n",
      " 5   host_identity_verified            3191 non-null   int64  \n",
      " 6   neighbourhood_group_cleansed      3191 non-null   object \n",
      " 7   latitude                          3191 non-null   float64\n",
      " 8   longitude                         3191 non-null   float64\n",
      " 9   is_location_exact                 3191 non-null   int64  \n",
      " 10  property_type                     3191 non-null   object \n",
      " 11  room_type                         3191 non-null   object \n",
      " 12  accommodates                      3191 non-null   int64  \n",
      " 13  bathrooms                         3191 non-null   float64\n",
      " 14  bedrooms                          3191 non-null   float64\n",
      " 15  beds                              3191 non-null   float64\n",
      " 16  bed_type                          3191 non-null   object \n",
      " 17  price                             3191 non-null   float64\n",
      " 18  weekly_price                      3191 non-null   float64\n",
      " 19  monthly_price                     3191 non-null   float64\n",
      " 20  security_deposit                  3191 non-null   float64\n",
      " 21  cleaning_fee                      3191 non-null   float64\n",
      " 22  guests_included                   3191 non-null   int64  \n",
      " 23  extra_people                      3191 non-null   float64\n",
      " 24  minimum_nights                    3191 non-null   int64  \n",
      " 25  maximum_nights                    3191 non-null   int64  \n",
      " 26  calendar_updated                  3191 non-null   object \n",
      " 27  availability_30                   3191 non-null   int64  \n",
      " 28  availability_60                   3191 non-null   int64  \n",
      " 29  availability_90                   3191 non-null   int64  \n",
      " 30  availability_365                  3191 non-null   int64  \n",
      " 31  number_of_reviews                 3191 non-null   int64  \n",
      " 32  review_scores_rating              3171 non-null   float64\n",
      " 33  review_scores_accuracy            3160 non-null   float64\n",
      " 34  review_scores_cleanliness         3165 non-null   float64\n",
      " 35  review_scores_checkin             3160 non-null   float64\n",
      " 36  review_scores_communication       3167 non-null   float64\n",
      " 37  review_scores_location            3163 non-null   float64\n",
      " 38  review_scores_value               3162 non-null   float64\n",
      " 39  instant_bookable                  3191 non-null   int64  \n",
      " 40  cancellation_policy               3191 non-null   object \n",
      " 41  require_guest_profile_picture     3191 non-null   int64  \n",
      " 42  require_guest_phone_verification  3191 non-null   int64  \n",
      " 43  calculated_host_listings_count    3191 non-null   int64  \n",
      " 44  reviews_per_month                 3191 non-null   float64\n",
      "dtypes: float64(21), int64(17), object(7)\n",
      "memory usage: 1.1+ MB\n"
     ]
    }
   ],
   "source": [
    "properties.info()"
   ]
  },
  {
   "cell_type": "code",
   "execution_count": 19,
   "metadata": {},
   "outputs": [],
   "source": [
    "# one-hot encoding the other variables and creating the predictor and target variables\n",
    "\n",
    "categorical_cols = properties.select_dtypes(['object']).columns\n",
    "X = pd.get_dummies(properties, prefix=categorical_cols).drop(['reviews_per_month'], axis=1)\n",
    "y = properties['reviews_per_month']"
   ]
  },
  {
   "cell_type": "code",
   "execution_count": 20,
   "metadata": {},
   "outputs": [],
   "source": [
    "# Dropping the following categories with low observations < 10, as determined a couple of steps above\n",
    "\n",
    "X.drop(['neighbourhood_group_cleansed_Interbay', 'property_type_Boat', 'property_type_Bungalow', 'property_type_Dorm', \n",
    "       'property_type_Yurt', 'property_type_Chalet', 'property_type_Tent', 'property_type_Treehouse', 'bed_type_Couch', \n",
    "       'calendar_updated_never', 'calendar_updated_10 months ago', 'calendar_updated_14 months ago', \n",
    "       'calendar_updated_30 months ago', 'calendar_updated_9 months ago', 'calendar_updated_11 months ago', \n",
    "       'calendar_updated_22 months ago', 'calendar_updated_12 months ago', 'calendar_updated_13 months ago'], \n",
    "       axis=1, inplace=True)"
   ]
  },
  {
   "cell_type": "markdown",
   "metadata": {},
   "source": [
    "## Checking for normality of continuous variables"
   ]
  },
  {
   "cell_type": "code",
   "execution_count": 21,
   "metadata": {
    "scrolled": true
   },
   "outputs": [],
   "source": [
    "numerical_cols = properties.select_dtypes(['int64', 'float64']).columns"
   ]
  },
  {
   "cell_type": "code",
   "execution_count": 82,
   "metadata": {
    "scrolled": true
   },
   "outputs": [
    {
     "data": {
      "image/png": "[encoded data removed]",
      "text/plain": [
       "<Figure size 720x2160 with 32 Axes>"
      ]
     },
     "metadata": {
      "needs_background": "light"
     },
     "output_type": "display_data"
    }
   ],
   "source": [
    "plt.figure(figsize=(10, 30))\n",
    "\n",
    "for i, col in enumerate(numerical_cols):\n",
    "    plt.subplot(8, 4, i+1)\n",
    "    plt.hist(one[col])\n",
    "    plt.title(f'{col} distribution')\n",
    "    plt.tight_layout()\n",
    "\n",
    "plt.show()"
   ]
  },
  {
   "cell_type": "markdown",
   "metadata": {},
   "source": [
    "### Tried some log transofrmations - but they either have negative values, or do not approach normal distributions. So not transforming any of these variables."
   ]
  },
  {
   "cell_type": "markdown",
   "metadata": {},
   "source": [
    "### Checking for correlation between the review scores"
   ]
  },
  {
   "cell_type": "code",
   "execution_count": 22,
   "metadata": {
    "scrolled": false
   },
   "outputs": [
    {
     "data": {
      "text/html": [
       "<div>\n",
       "<style scoped>\n",
       "    .dataframe tbody tr th:only-of-type {\n",
       "        vertical-align: middle;\n",
       "    }\n",
       "\n",
       "    .dataframe tbody tr th {\n",
       "        vertical-align: top;\n",
       "    }\n",
       "\n",
       "    .dataframe thead th {\n",
       "        text-align: right;\n",
       "    }\n",
       "</style>\n",
       "<table border=\"1\" class=\"dataframe\">\n",
       "  <thead>\n",
       "    <tr style=\"text-align: right;\">\n",
       "      <th></th>\n",
       "      <th>review_scores_rating</th>\n",
       "      <th>review_scores_accuracy</th>\n",
       "      <th>review_scores_cleanliness</th>\n",
       "      <th>review_scores_checkin</th>\n",
       "      <th>review_scores_communication</th>\n",
       "      <th>review_scores_location</th>\n",
       "      <th>review_scores_value</th>\n",
       "      <th>reviews_per_month</th>\n",
       "    </tr>\n",
       "  </thead>\n",
       "  <tbody>\n",
       "    <tr>\n",
       "      <th>review_scores_rating</th>\n",
       "      <td>1.000000</td>\n",
       "      <td>0.621257</td>\n",
       "      <td>0.642882</td>\n",
       "      <td>0.521813</td>\n",
       "      <td>0.540620</td>\n",
       "      <td>0.368423</td>\n",
       "      <td>0.696534</td>\n",
       "      <td>0.087313</td>\n",
       "    </tr>\n",
       "    <tr>\n",
       "      <th>review_scores_accuracy</th>\n",
       "      <td>0.621257</td>\n",
       "      <td>1.000000</td>\n",
       "      <td>0.543345</td>\n",
       "      <td>0.407238</td>\n",
       "      <td>0.423189</td>\n",
       "      <td>0.267605</td>\n",
       "      <td>0.562878</td>\n",
       "      <td>0.143613</td>\n",
       "    </tr>\n",
       "    <tr>\n",
       "      <th>review_scores_cleanliness</th>\n",
       "      <td>0.642882</td>\n",
       "      <td>0.543345</td>\n",
       "      <td>1.000000</td>\n",
       "      <td>0.398696</td>\n",
       "      <td>0.388146</td>\n",
       "      <td>0.277834</td>\n",
       "      <td>0.524354</td>\n",
       "      <td>0.133974</td>\n",
       "    </tr>\n",
       "    <tr>\n",
       "      <th>review_scores_checkin</th>\n",
       "      <td>0.521813</td>\n",
       "      <td>0.407238</td>\n",
       "      <td>0.398696</td>\n",
       "      <td>1.000000</td>\n",
       "      <td>0.696345</td>\n",
       "      <td>0.240903</td>\n",
       "      <td>0.403263</td>\n",
       "      <td>0.123107</td>\n",
       "    </tr>\n",
       "    <tr>\n",
       "      <th>review_scores_communication</th>\n",
       "      <td>0.540620</td>\n",
       "      <td>0.423189</td>\n",
       "      <td>0.388146</td>\n",
       "      <td>0.696345</td>\n",
       "      <td>1.000000</td>\n",
       "      <td>0.284635</td>\n",
       "      <td>0.463772</td>\n",
       "      <td>0.104313</td>\n",
       "    </tr>\n",
       "    <tr>\n",
       "      <th>review_scores_location</th>\n",
       "      <td>0.368423</td>\n",
       "      <td>0.267605</td>\n",
       "      <td>0.277834</td>\n",
       "      <td>0.240903</td>\n",
       "      <td>0.284635</td>\n",
       "      <td>1.000000</td>\n",
       "      <td>0.368252</td>\n",
       "      <td>0.062151</td>\n",
       "    </tr>\n",
       "    <tr>\n",
       "      <th>review_scores_value</th>\n",
       "      <td>0.696534</td>\n",
       "      <td>0.562878</td>\n",
       "      <td>0.524354</td>\n",
       "      <td>0.403263</td>\n",
       "      <td>0.463772</td>\n",
       "      <td>0.368252</td>\n",
       "      <td>1.000000</td>\n",
       "      <td>0.126014</td>\n",
       "    </tr>\n",
       "    <tr>\n",
       "      <th>reviews_per_month</th>\n",
       "      <td>0.087313</td>\n",
       "      <td>0.143613</td>\n",
       "      <td>0.133974</td>\n",
       "      <td>0.123107</td>\n",
       "      <td>0.104313</td>\n",
       "      <td>0.062151</td>\n",
       "      <td>0.126014</td>\n",
       "      <td>1.000000</td>\n",
       "    </tr>\n",
       "  </tbody>\n",
       "</table>\n",
       "</div>"
      ],
      "text/plain": [
       "                             review_scores_rating  review_scores_accuracy  \\\n",
       "review_scores_rating                     1.000000                0.621257   \n",
       "review_scores_accuracy                   0.621257                1.000000   \n",
       "review_scores_cleanliness                0.642882                0.543345   \n",
       "review_scores_checkin                    0.521813                0.407238   \n",
       "review_scores_communication              0.540620                0.423189   \n",
       "review_scores_location                   0.368423                0.267605   \n",
       "review_scores_value                      0.696534                0.562878   \n",
       "reviews_per_month                        0.087313                0.143613   \n",
       "\n",
       "                             review_scores_cleanliness  review_scores_checkin  \\\n",
       "review_scores_rating                          0.642882               0.521813   \n",
       "review_scores_accuracy                        0.543345               0.407238   \n",
       "review_scores_cleanliness                     1.000000               0.398696   \n",
       "review_scores_checkin                         0.398696               1.000000   \n",
       "review_scores_communication                   0.388146               0.696345   \n",
       "review_scores_location                        0.277834               0.240903   \n",
       "review_scores_value                           0.524354               0.403263   \n",
       "reviews_per_month                             0.133974               0.123107   \n",
       "\n",
       "                             review_scores_communication  \\\n",
       "review_scores_rating                            0.540620   \n",
       "review_scores_accuracy                          0.423189   \n",
       "review_scores_cleanliness                       0.388146   \n",
       "review_scores_checkin                           0.696345   \n",
       "review_scores_communication                     1.000000   \n",
       "review_scores_location                          0.284635   \n",
       "review_scores_value                             0.463772   \n",
       "reviews_per_month                               0.104313   \n",
       "\n",
       "                             review_scores_location  review_scores_value  \\\n",
       "review_scores_rating                       0.368423             0.696534   \n",
       "review_scores_accuracy                     0.267605             0.562878   \n",
       "review_scores_cleanliness                  0.277834             0.524354   \n",
       "review_scores_checkin                      0.240903             0.403263   \n",
       "review_scores_communication                0.284635             0.463772   \n",
       "review_scores_location                     1.000000             0.368252   \n",
       "review_scores_value                        0.368252             1.000000   \n",
       "reviews_per_month                          0.062151             0.126014   \n",
       "\n",
       "                             reviews_per_month  \n",
       "review_scores_rating                  0.087313  \n",
       "review_scores_accuracy                0.143613  \n",
       "review_scores_cleanliness             0.133974  \n",
       "review_scores_checkin                 0.123107  \n",
       "review_scores_communication           0.104313  \n",
       "review_scores_location                0.062151  \n",
       "review_scores_value                   0.126014  \n",
       "reviews_per_month                     1.000000  "
      ]
     },
     "execution_count": 22,
     "metadata": {},
     "output_type": "execute_result"
    }
   ],
   "source": [
    "properties[['review_scores_rating', 'review_scores_accuracy', 'review_scores_cleanliness', 'review_scores_checkin', \n",
    "    'review_scores_communication', 'review_scores_location', 'review_scores_value', 'reviews_per_month']].corr()"
   ]
  },
  {
   "cell_type": "code",
   "execution_count": 23,
   "metadata": {},
   "outputs": [],
   "source": [
    "# It is weak-to-moderate correlation. Hence they all will be retained\n",
    "# Filling in the missing values with the mean\n",
    "\n",
    "X.loc[X['review_scores_rating'].isnull(), 'review_scores_rating'] = X['review_scores_rating'].mean()\n",
    "X.loc[X['review_scores_accuracy'].isnull(), 'review_scores_accuracy'] = X['review_scores_accuracy'].mean()\n",
    "X.loc[X['review_scores_cleanliness'].isnull(), 'review_scores_cleanliness'] = X['review_scores_cleanliness'].mean()\n",
    "X.loc[X['review_scores_checkin'].isnull(), 'review_scores_checkin'] = X['review_scores_checkin'].mean()\n",
    "X.loc[X['review_scores_communication'].isnull(), 'review_scores_communication'] = X['review_scores_communication'].mean()\n",
    "X.loc[X['review_scores_location'].isnull(), 'review_scores_location'] = X['review_scores_location'].mean()\n",
    "X.loc[X['review_scores_value'].isnull(), 'review_scores_value'] = X['review_scores_value'].mean()\n"
   ]
  },
  {
   "cell_type": "markdown",
   "metadata": {},
   "source": [
    "## Moving on to testing out different models"
   ]
  },
  {
   "cell_type": "markdown",
   "metadata": {},
   "source": [
    "### 1. Trying Linear Regression\n"
   ]
  },
  {
   "cell_type": "code",
   "execution_count": 24,
   "metadata": {},
   "outputs": [],
   "source": [
    "from sklearn.model_selection import train_test_split\n",
    "\n",
    "X_train, X_test, y_train, y_test = train_test_split(X, y, random_state=13)"
   ]
  },
  {
   "cell_type": "code",
   "execution_count": 25,
   "metadata": {
    "scrolled": true
   },
   "outputs": [
    {
     "name": "stdout",
     "output_type": "stream",
     "text": [
      "R-squared on training data is : 0.575967190634747\n",
      "R-squared on test data is : 0.47079441477555717 \n",
      "\n",
      "Mean absolute error is : 0.930490164029902\n",
      "Root mean squared error is : 1.38108221874646\n",
      "Mean Absolute percentage error is : 0.9491388934878531\n"
     ]
    }
   ],
   "source": [
    "from sklearn import linear_model\n",
    "from sklearn.metrics import r2_score, mean_squared_error, mean_absolute_percentage_error, mean_absolute_error\n",
    "\n",
    "from sklearn import linear_model\n",
    "from sklearn.metrics import r2_score, mean_squared_error\n",
    "\n",
    "lr = linear_model.LinearRegression()\n",
    "lr.fit(X_train, y_train)\n",
    "\n",
    "predictions_lr = lr.predict(X_test)\n",
    "\n",
    "print(f\"R-squared on training data is : {lr.score(X_train, y_train)}\")\n",
    "print(f\"R-squared on test data is : {lr.score(X_test, y_test)} \\n\")\n",
    "\n",
    "print(f'Mean absolute error is : {mean_absolute_error(y_test, predictions_lr)}')\n",
    "print(f'Root mean squared error is : {np.sqrt(mean_squared_error(y_test, predictions_lr))}')\n",
    "print(f'Mean Absolute percentage error is : {mean_absolute_percentage_error(y_test, predictions_lr)}')"
   ]
  },
  {
   "cell_type": "code",
   "execution_count": 26,
   "metadata": {},
   "outputs": [
    {
     "name": "stdout",
     "output_type": "stream",
     "text": [
      "[ 0.56777291  0.50220602  0.60093956  0.30982034  0.50183051  0.46978617\n",
      " -0.90809315  0.54908389  0.48276147  0.51696615]\n",
      "0.35930738609844476\n",
      "0.42891115730435886\n"
     ]
    }
   ],
   "source": [
    "# Trying cross-validation to test the stability of the model\n",
    "\n",
    "from sklearn.model_selection import cross_val_score\n",
    "lr_crossval = linear_model.LinearRegression()\n",
    "cross_val_lr = cross_val_score(lr_crossval, X, y, cv=10)\n",
    "\n",
    "print(cross_val_lr)\n",
    "print(cross_val_lr.mean())\n",
    "print(cross_val_lr.std())"
   ]
  },
  {
   "cell_type": "markdown",
   "metadata": {},
   "source": [
    "### The standard deviation is very high, indicating that the model is not very stable\n",
    "### The R-squared is fairly low, indicating that the model explains only about 47% of the variation in the target variable"
   ]
  },
  {
   "cell_type": "code",
   "execution_count": 27,
   "metadata": {},
   "outputs": [],
   "source": [
    "# Extracting the coefficients\n",
    "\n",
    "coeff_comparison = pd.DataFrame()\n",
    "coeff_comparison['LR coefficients'] = lr.coef_\n",
    "coeff_comparison.index = X.columns"
   ]
  },
  {
   "cell_type": "code",
   "execution_count": 28,
   "metadata": {
    "scrolled": true
   },
   "outputs": [
    {
     "data": {
      "image/png": "[encoded data removed]",
      "text/plain": [
       "<Figure size 432x288 with 1 Axes>"
      ]
     },
     "metadata": {
      "needs_background": "light"
     },
     "output_type": "display_data"
    }
   ],
   "source": [
    "# Checking the actual vs predicted outcomes\n",
    "\n",
    "plt.scatter(y_test, predictions_lr);"
   ]
  },
  {
   "cell_type": "markdown",
   "metadata": {},
   "source": [
    "### 2. Trying a Decision Tree"
   ]
  },
  {
   "cell_type": "code",
   "execution_count": 29,
   "metadata": {},
   "outputs": [
    {
     "name": "stdout",
     "output_type": "stream",
     "text": [
      "R-squared of training data is : 0.5708005480485525\n",
      "R-squared of test data is : 0.5073784111488955 \n",
      "\n",
      "Mean absolute error is : 0.9256884738686312\n",
      "Root mean squared error is : 1.3324902643222656\n",
      "Mean Absolute percentage error is : 0.8488368267524278\n"
     ]
    }
   ],
   "source": [
    "from sklearn import tree\n",
    "\n",
    "dt = tree.DecisionTreeRegressor(max_depth=4)\n",
    "dt.fit(X_train, y_train)\n",
    "\n",
    "predictions_dt = dt.predict(X_test)\n",
    "\n",
    "print(f\"R-squared of training data is : {dt.score(X_train, y_train)}\")\n",
    "print(f\"R-squared of test data is : {dt.score(X_test, y_test)} \\n\")\n",
    "\n",
    "print(f'Mean absolute error is : {mean_absolute_error(y_test, predictions_dt)}')\n",
    "print(f'Root mean squared error is : {np.sqrt(mean_squared_error(y_test, predictions_dt))}')\n",
    "print(f'Mean Absolute percentage error is : {mean_absolute_percentage_error(y_test, predictions_dt)}')"
   ]
  },
  {
   "cell_type": "code",
   "execution_count": 30,
   "metadata": {},
   "outputs": [
    {
     "name": "stdout",
     "output_type": "stream",
     "text": [
      "[0.57091171 0.48272329 0.59105389 0.5523439  0.40503236 0.41349621\n",
      " 0.53133772 0.46337815 0.44526094 0.48179531]\n",
      "0.4937333478521303\n",
      "0.06173952255707871\n"
     ]
    }
   ],
   "source": [
    "# Doing a cross-validation\n",
    "\n",
    "dt_crossval = tree.DecisionTreeRegressor(max_depth=4)\n",
    "cross_val_dt = cross_val_score(dt_crossval, X, y, cv=10)\n",
    "\n",
    "print(cross_val_dt)\n",
    "print(cross_val_dt.mean())\n",
    "print(cross_val_dt.std())"
   ]
  },
  {
   "cell_type": "code",
   "execution_count": 31,
   "metadata": {
    "scrolled": true
   },
   "outputs": [
    {
     "data": {
      "image/png": "[encoded data removed]",
      "text/plain": [
       "<Figure size 432x288 with 1 Axes>"
      ]
     },
     "metadata": {
      "needs_background": "light"
     },
     "output_type": "display_data"
    }
   ],
   "source": [
    "# Plotting the actual and predicted values\n",
    "\n",
    "plt.scatter(y_test, predictions_dt);"
   ]
  },
  {
   "cell_type": "code",
   "execution_count": 32,
   "metadata": {
    "scrolled": false
   },
   "outputs": [
    {
     "data": {
      "image/png": "[encoded data removed]",
      "text/plain": [
       "<Figure size 2160x720 with 1 Axes>"
      ]
     },
     "metadata": {
      "needs_background": "light"
     },
     "output_type": "display_data"
    }
   ],
   "source": [
    "# Plotting the decision tree\n",
    "\n",
    "plt.figure(figsize=(30, 10))\n",
    "tree.plot_tree(dt, filled=True, fontsize=10, feature_names=X.columns);\n",
    "plt.tight_layout()"
   ]
  },
  {
   "cell_type": "code",
   "execution_count": 33,
   "metadata": {},
   "outputs": [],
   "source": [
    "# This is a much more stable compared to linear regression\n",
    "# However, the explained variance and RMSE are not quite ideal\n",
    "\n",
    "coeff_comparison['DT coefficients'] = dt.feature_importances_"
   ]
  },
  {
   "cell_type": "code",
   "execution_count": 34,
   "metadata": {
    "scrolled": false
   },
   "outputs": [
    {
     "data": {
      "text/html": [
       "<div>\n",
       "<style scoped>\n",
       "    .dataframe tbody tr th:only-of-type {\n",
       "        vertical-align: middle;\n",
       "    }\n",
       "\n",
       "    .dataframe tbody tr th {\n",
       "        vertical-align: top;\n",
       "    }\n",
       "\n",
       "    .dataframe thead th {\n",
       "        text-align: right;\n",
       "    }\n",
       "</style>\n",
       "<table border=\"1\" class=\"dataframe\">\n",
       "  <thead>\n",
       "    <tr style=\"text-align: right;\">\n",
       "      <th></th>\n",
       "      <th>LR coefficients</th>\n",
       "      <th>DT coefficients</th>\n",
       "    </tr>\n",
       "  </thead>\n",
       "  <tbody>\n",
       "    <tr>\n",
       "      <th>host_since</th>\n",
       "      <td>-0.000629</td>\n",
       "      <td>0.19279</td>\n",
       "    </tr>\n",
       "    <tr>\n",
       "      <th>host_response_rate</th>\n",
       "      <td>0.091693</td>\n",
       "      <td>0.00383</td>\n",
       "    </tr>\n",
       "    <tr>\n",
       "      <th>host_is_superhost</th>\n",
       "      <td>0.349974</td>\n",
       "      <td>0.00000</td>\n",
       "    </tr>\n",
       "    <tr>\n",
       "      <th>host_listings_count</th>\n",
       "      <td>-0.005905</td>\n",
       "      <td>0.00000</td>\n",
       "    </tr>\n",
       "    <tr>\n",
       "      <th>host_identity_verified</th>\n",
       "      <td>0.280335</td>\n",
       "      <td>0.00000</td>\n",
       "    </tr>\n",
       "    <tr>\n",
       "      <th>...</th>\n",
       "      <td>...</td>\n",
       "      <td>...</td>\n",
       "    </tr>\n",
       "    <tr>\n",
       "      <th>calendar_updated_today</th>\n",
       "      <td>1.016021</td>\n",
       "      <td>0.00000</td>\n",
       "    </tr>\n",
       "    <tr>\n",
       "      <th>calendar_updated_yesterday</th>\n",
       "      <td>0.793255</td>\n",
       "      <td>0.00000</td>\n",
       "    </tr>\n",
       "    <tr>\n",
       "      <th>cancellation_policy_flexible</th>\n",
       "      <td>-0.013309</td>\n",
       "      <td>0.00000</td>\n",
       "    </tr>\n",
       "    <tr>\n",
       "      <th>cancellation_policy_moderate</th>\n",
       "      <td>0.081441</td>\n",
       "      <td>0.00000</td>\n",
       "    </tr>\n",
       "    <tr>\n",
       "      <th>cancellation_policy_strict</th>\n",
       "      <td>-0.068132</td>\n",
       "      <td>0.00000</td>\n",
       "    </tr>\n",
       "  </tbody>\n",
       "</table>\n",
       "<p>98 rows × 2 columns</p>\n",
       "</div>"
      ],
      "text/plain": [
       "                              LR coefficients  DT coefficients\n",
       "host_since                          -0.000629          0.19279\n",
       "host_response_rate                   0.091693          0.00383\n",
       "host_is_superhost                    0.349974          0.00000\n",
       "host_listings_count                 -0.005905          0.00000\n",
       "host_identity_verified               0.280335          0.00000\n",
       "...                                       ...              ...\n",
       "calendar_updated_today               1.016021          0.00000\n",
       "calendar_updated_yesterday           0.793255          0.00000\n",
       "cancellation_policy_flexible        -0.013309          0.00000\n",
       "cancellation_policy_moderate         0.081441          0.00000\n",
       "cancellation_policy_strict          -0.068132          0.00000\n",
       "\n",
       "[98 rows x 2 columns]"
      ]
     },
     "execution_count": 34,
     "metadata": {},
     "output_type": "execute_result"
    }
   ],
   "source": [
    "coeff_comparison"
   ]
  },
  {
   "cell_type": "markdown",
   "metadata": {},
   "source": [
    "### 3. Trying Random Forest"
   ]
  },
  {
   "cell_type": "code",
   "execution_count": 36,
   "metadata": {
    "scrolled": true
   },
   "outputs": [
    {
     "name": "stdout",
     "output_type": "stream",
     "text": [
      "The time taken is : 1.385453224182129 seconds \n",
      "\n",
      "R-squared of training data is : 0.6348334979186347\n",
      "R-squared of test data is : 0.5932759078915562 \n",
      "\n",
      "Mean absolute error is : 0.8461270177479043\n",
      "Root mean squared error is : 1.2107577941949978\n",
      "Mean Absolute percentage error is : 0.8338466947514395\n"
     ]
    }
   ],
   "source": [
    "from sklearn import ensemble\n",
    "import time\n",
    "start_time = time.time()\n",
    "rf = ensemble.RandomForestRegressor(max_depth=4)\n",
    "rf.fit(X_train, y_train)\n",
    "\n",
    "predictions_rf = rf.predict(X_test)\n",
    "\n",
    "print(f\"The time taken is : {time.time() - start_time} seconds \\n\")\n",
    "print(f\"R-squared of training data is : {rf.score(X_train, y_train)}\")\n",
    "print(f\"R-squared of test data is : {rf.score(X_test, y_test)} \\n\")\n",
    "\n",
    "print(f'Mean absolute error is : {mean_absolute_error(y_test, predictions_rf)}')\n",
    "print(f'Root mean squared error is : {np.sqrt(mean_squared_error(y_test, predictions_rf))}')\n",
    "print(f'Mean Absolute percentage error is : {mean_absolute_percentage_error(y_test, predictions_rf)}')"
   ]
  },
  {
   "cell_type": "markdown",
   "metadata": {},
   "source": [
    "### 4. Trying Gradient Boost"
   ]
  },
  {
   "cell_type": "code",
   "execution_count": 37,
   "metadata": {},
   "outputs": [
    {
     "name": "stdout",
     "output_type": "stream",
     "text": [
      "The time taken is : 4.965423822402954 seconds \n",
      "\n",
      "R-squared of training data is : 0.922479680631407\n",
      "R-squared of test data is : 0.7161613318081042 \n",
      "\n",
      "Mean absolute error is : 0.707504097674035\n",
      "Root mean squared error is : 1.0114469391664267\n",
      "Mean Absolute percentage error is : 0.5985956751014475\n"
     ]
    }
   ],
   "source": [
    "import time\n",
    "\n",
    "start_time = time.time()\n",
    "gbr = ensemble.GradientBoostingRegressor(n_estimators=500,\n",
    "                                     max_depth=3,\n",
    "                                     )\n",
    "\n",
    "gbr.fit(X_train, y_train)\n",
    "predictions_gbr = gbr.predict(X_test)\n",
    "gbr_execution_og = time.time() - start_time\n",
    "print(f\"The time taken is : {gbr_execution_og} seconds \\n\")\n",
    "print(f\"R-squared of training data is : {gbr.score(X_train, y_train)}\")\n",
    "print(f\"R-squared of test data is : {gbr.score(X_test, y_test)} \\n\")\n",
    "\n",
    "print(f'Mean absolute error is : {mean_absolute_error(y_test, predictions_gbr)}')\n",
    "print(f'Root mean squared error is : {np.sqrt(mean_squared_error(y_test, predictions_gbr))}')\n",
    "print(f'Mean Absolute percentage error is : {mean_absolute_percentage_error(y_test, predictions_gbr)}')"
   ]
  },
  {
   "cell_type": "markdown",
   "metadata": {},
   "source": [
    "### The explained variance and RMSE/MAE are much improved. However, it takes almost 5 times as much time to execute as a Random Forest"
   ]
  },
  {
   "cell_type": "code",
   "execution_count": 38,
   "metadata": {
    "scrolled": false
   },
   "outputs": [
    {
     "data": {
      "image/png": "[encoded data removed]",
      "text/plain": [
       "<Figure size 432x288 with 1 Axes>"
      ]
     },
     "metadata": {
      "needs_background": "light"
     },
     "output_type": "display_data"
    }
   ],
   "source": [
    "# Plotting the results of actual vs predicted\n",
    "\n",
    "plt.scatter(y_test, predictions_gbr)\n",
    "plt.title('Gradient Boost Performance')\n",
    "plt.xlabel('Actual')\n",
    "plt.ylabel('Predicted')\n",
    "plt.show()"
   ]
  },
  {
   "cell_type": "markdown",
   "metadata": {},
   "source": [
    "### Thoughts on the model performance\n",
    "\n",
    "Gradient Boost has returned the best results so far. Before diving deeper into it and tuning, just trying out a smaller set of features, basis the coefficients returned by the Linear Regression and Decision Trees."
   ]
  },
  {
   "cell_type": "code",
   "execution_count": 39,
   "metadata": {
    "scrolled": false
   },
   "outputs": [
    {
     "data": {
      "text/plain": [
       "host_since                           0.192790\n",
       "host_response_rate                   0.003830\n",
       "cleaning_fee                         0.012509\n",
       "minimum_nights                       0.016185\n",
       "number_of_reviews                    0.732082\n",
       "review_scores_rating                 0.010686\n",
       "instant_bookable                     0.013575\n",
       "host_response_time_within an hour    0.018343\n",
       "Name: DT coefficients, dtype: float64"
      ]
     },
     "execution_count": 39,
     "metadata": {},
     "output_type": "execute_result"
    }
   ],
   "source": [
    "# Obtaining features with coefficients more than 0.000001 as per decision tree model\n",
    "\n",
    "coeff_comparison[coeff_comparison['DT coefficients'] > 0.000001]['DT coefficients']"
   ]
  },
  {
   "cell_type": "code",
   "execution_count": 40,
   "metadata": {
    "scrolled": true
   },
   "outputs": [
    {
     "data": {
      "text/plain": [
       "host_response_rate                       0.091693\n",
       "host_is_superhost                        0.349974\n",
       "host_identity_verified                   0.280335\n",
       "accommodates                             0.069726\n",
       "beds                                     0.009618\n",
       "security_deposit                         0.000125\n",
       "guests_included                          0.040268\n",
       "maximum_nights                           0.000126\n",
       "availability_60                          0.005370\n",
       "availability_90                          0.007582\n",
       "number_of_reviews                        0.023899\n",
       "review_scores_accuracy                   0.106378\n",
       "review_scores_cleanliness                0.025198\n",
       "review_scores_checkin                    0.111183\n",
       "review_scores_location                   0.103636\n",
       "instant_bookable                         0.461586\n",
       "require_guest_profile_picture            0.012468\n",
       "calculated_host_listings_count           0.007060\n",
       "host_response_time_within a few hours    0.005142\n",
       "host_response_time_within an hour        0.339076\n",
       "property_type_Camper/RV                  0.829440\n",
       "property_type_Other                      0.481874\n",
       "property_type_Townhouse                  0.093524\n",
       "room_type_Entire home/apt                0.033604\n",
       "room_type_Private room                   0.082286\n",
       "bed_type_Airbed                          0.339123\n",
       "bed_type_Futon                           0.037471\n",
       "bed_type_Pull-out Sofa                   0.400330\n",
       "bed_type_Real Bed                        0.199311\n",
       "calendar_updated_1 week ago              0.779075\n",
       "calendar_updated_2 days ago              1.167670\n",
       "calendar_updated_2 months ago            0.407092\n",
       "calendar_updated_2 weeks ago             0.519511\n",
       "calendar_updated_3 days ago              0.999552\n",
       "calendar_updated_3 months ago            0.088917\n",
       "calendar_updated_3 weeks ago             0.505294\n",
       "calendar_updated_4 days ago              0.953749\n",
       "calendar_updated_4 months ago            0.096187\n",
       "calendar_updated_4 weeks ago             0.467523\n",
       "calendar_updated_5 days ago              0.858519\n",
       "calendar_updated_5 months ago            0.173984\n",
       "calendar_updated_5 weeks ago             0.428240\n",
       "calendar_updated_6 days ago              0.748219\n",
       "calendar_updated_6 weeks ago             0.427318\n",
       "calendar_updated_7 months ago            0.554877\n",
       "calendar_updated_7 weeks ago             0.217580\n",
       "calendar_updated_8 months ago            0.264046\n",
       "calendar_updated_a week ago              0.895170\n",
       "calendar_updated_today                   1.016021\n",
       "calendar_updated_yesterday               0.793255\n",
       "cancellation_policy_moderate             0.081441\n",
       "Name: LR coefficients, dtype: float64"
      ]
     },
     "execution_count": 40,
     "metadata": {},
     "output_type": "execute_result"
    }
   ],
   "source": [
    "# Obtaining features with coefficients more than 0.0001 as per Linear Regression model\n",
    "\n",
    "coeff_comparison[coeff_comparison['LR coefficients'] > 0.0001]['LR coefficients']"
   ]
  },
  {
   "cell_type": "markdown",
   "metadata": {},
   "source": [
    "### 1. Trying a new dataset with the prominent variables from the Decision Tree model"
   ]
  },
  {
   "cell_type": "code",
   "execution_count": 41,
   "metadata": {
    "scrolled": true
   },
   "outputs": [
    {
     "data": {
      "text/html": [
       "<div>\n",
       "<style scoped>\n",
       "    .dataframe tbody tr th:only-of-type {\n",
       "        vertical-align: middle;\n",
       "    }\n",
       "\n",
       "    .dataframe tbody tr th {\n",
       "        vertical-align: top;\n",
       "    }\n",
       "\n",
       "    .dataframe thead th {\n",
       "        text-align: right;\n",
       "    }\n",
       "</style>\n",
       "<table border=\"1\" class=\"dataframe\">\n",
       "  <thead>\n",
       "    <tr style=\"text-align: right;\">\n",
       "      <th></th>\n",
       "      <th>host_since</th>\n",
       "      <th>host_response_rate</th>\n",
       "      <th>cleaning_fee</th>\n",
       "      <th>minimum_nights</th>\n",
       "      <th>number_of_reviews</th>\n",
       "      <th>review_scores_rating</th>\n",
       "      <th>instant_bookable</th>\n",
       "      <th>host_response_time_within an hour</th>\n",
       "    </tr>\n",
       "  </thead>\n",
       "  <tbody>\n",
       "    <tr>\n",
       "      <th>0</th>\n",
       "      <td>3529</td>\n",
       "      <td>0.960000</td>\n",
       "      <td>34.0</td>\n",
       "      <td>1</td>\n",
       "      <td>207</td>\n",
       "      <td>95.0</td>\n",
       "      <td>0</td>\n",
       "      <td>0</td>\n",
       "    </tr>\n",
       "    <tr>\n",
       "      <th>1</th>\n",
       "      <td>2969</td>\n",
       "      <td>0.980000</td>\n",
       "      <td>40.0</td>\n",
       "      <td>2</td>\n",
       "      <td>43</td>\n",
       "      <td>96.0</td>\n",
       "      <td>0</td>\n",
       "      <td>1</td>\n",
       "    </tr>\n",
       "    <tr>\n",
       "      <th>2</th>\n",
       "      <td>2493</td>\n",
       "      <td>0.670000</td>\n",
       "      <td>300.0</td>\n",
       "      <td>4</td>\n",
       "      <td>20</td>\n",
       "      <td>97.0</td>\n",
       "      <td>0</td>\n",
       "      <td>0</td>\n",
       "    </tr>\n",
       "    <tr>\n",
       "      <th>4</th>\n",
       "      <td>3419</td>\n",
       "      <td>1.000000</td>\n",
       "      <td>125.0</td>\n",
       "      <td>1</td>\n",
       "      <td>38</td>\n",
       "      <td>92.0</td>\n",
       "      <td>0</td>\n",
       "      <td>1</td>\n",
       "    </tr>\n",
       "    <tr>\n",
       "      <th>5</th>\n",
       "      <td>3758</td>\n",
       "      <td>0.952194</td>\n",
       "      <td>40.0</td>\n",
       "      <td>1</td>\n",
       "      <td>17</td>\n",
       "      <td>95.0</td>\n",
       "      <td>0</td>\n",
       "      <td>0</td>\n",
       "    </tr>\n",
       "    <tr>\n",
       "      <th>...</th>\n",
       "      <td>...</td>\n",
       "      <td>...</td>\n",
       "      <td>...</td>\n",
       "      <td>...</td>\n",
       "      <td>...</td>\n",
       "      <td>...</td>\n",
       "      <td>...</td>\n",
       "      <td>...</td>\n",
       "    </tr>\n",
       "    <tr>\n",
       "      <th>3810</th>\n",
       "      <td>3441</td>\n",
       "      <td>1.000000</td>\n",
       "      <td>85.0</td>\n",
       "      <td>2</td>\n",
       "      <td>5</td>\n",
       "      <td>92.0</td>\n",
       "      <td>0</td>\n",
       "      <td>1</td>\n",
       "    </tr>\n",
       "    <tr>\n",
       "      <th>3811</th>\n",
       "      <td>2624</td>\n",
       "      <td>1.000000</td>\n",
       "      <td>20.0</td>\n",
       "      <td>1</td>\n",
       "      <td>2</td>\n",
       "      <td>100.0</td>\n",
       "      <td>0</td>\n",
       "      <td>0</td>\n",
       "    </tr>\n",
       "    <tr>\n",
       "      <th>3812</th>\n",
       "      <td>3142</td>\n",
       "      <td>1.000000</td>\n",
       "      <td>38.0</td>\n",
       "      <td>3</td>\n",
       "      <td>73</td>\n",
       "      <td>96.0</td>\n",
       "      <td>1</td>\n",
       "      <td>1</td>\n",
       "    </tr>\n",
       "    <tr>\n",
       "      <th>3813</th>\n",
       "      <td>2188</td>\n",
       "      <td>0.990000</td>\n",
       "      <td>230.0</td>\n",
       "      <td>3</td>\n",
       "      <td>1</td>\n",
       "      <td>80.0</td>\n",
       "      <td>0</td>\n",
       "      <td>0</td>\n",
       "    </tr>\n",
       "    <tr>\n",
       "      <th>3814</th>\n",
       "      <td>2004</td>\n",
       "      <td>1.000000</td>\n",
       "      <td>50.0</td>\n",
       "      <td>2</td>\n",
       "      <td>2</td>\n",
       "      <td>100.0</td>\n",
       "      <td>0</td>\n",
       "      <td>1</td>\n",
       "    </tr>\n",
       "  </tbody>\n",
       "</table>\n",
       "<p>3191 rows × 8 columns</p>\n",
       "</div>"
      ],
      "text/plain": [
       "      host_since  host_response_rate  cleaning_fee  minimum_nights  \\\n",
       "0           3529            0.960000          34.0               1   \n",
       "1           2969            0.980000          40.0               2   \n",
       "2           2493            0.670000         300.0               4   \n",
       "4           3419            1.000000         125.0               1   \n",
       "5           3758            0.952194          40.0               1   \n",
       "...          ...                 ...           ...             ...   \n",
       "3810        3441            1.000000          85.0               2   \n",
       "3811        2624            1.000000          20.0               1   \n",
       "3812        3142            1.000000          38.0               3   \n",
       "3813        2188            0.990000         230.0               3   \n",
       "3814        2004            1.000000          50.0               2   \n",
       "\n",
       "      number_of_reviews  review_scores_rating  instant_bookable  \\\n",
       "0                   207                  95.0                 0   \n",
       "1                    43                  96.0                 0   \n",
       "2                    20                  97.0                 0   \n",
       "4                    38                  92.0                 0   \n",
       "5                    17                  95.0                 0   \n",
       "...                 ...                   ...               ...   \n",
       "3810                  5                  92.0                 0   \n",
       "3811                  2                 100.0                 0   \n",
       "3812                 73                  96.0                 1   \n",
       "3813                  1                  80.0                 0   \n",
       "3814                  2                 100.0                 0   \n",
       "\n",
       "      host_response_time_within an hour  \n",
       "0                                     0  \n",
       "1                                     1  \n",
       "2                                     0  \n",
       "4                                     1  \n",
       "5                                     0  \n",
       "...                                 ...  \n",
       "3810                                  1  \n",
       "3811                                  0  \n",
       "3812                                  1  \n",
       "3813                                  0  \n",
       "3814                                  1  \n",
       "\n",
       "[3191 rows x 8 columns]"
      ]
     },
     "execution_count": 41,
     "metadata": {},
     "output_type": "execute_result"
    }
   ],
   "source": [
    "cols = coeff_comparison[coeff_comparison['DT coefficients'] > 0.000001].index\n",
    "X1 = X[cols]\n",
    "X1"
   ]
  },
  {
   "cell_type": "code",
   "execution_count": 42,
   "metadata": {},
   "outputs": [],
   "source": [
    "X1_train, X1_test, y1_train, y1_test = train_test_split(X1, y, random_state=129)"
   ]
  },
  {
   "cell_type": "code",
   "execution_count": 43,
   "metadata": {},
   "outputs": [
    {
     "name": "stdout",
     "output_type": "stream",
     "text": [
      "R-squared on training data is : 0.4595299888590815\n",
      "R-squared on test data is : 0.5299893230628624 \n",
      "\n",
      "Mean absolute error is : 0.9646993209535986\n",
      "Root mean squared error is : 1.2890996381536612\n",
      "Mean Absolute percentage error is : 1.2742806921241359\n"
     ]
    }
   ],
   "source": [
    "lr1 = linear_model.LinearRegression()\n",
    "lr1.fit(X1_train, y1_train)\n",
    "\n",
    "predictions_lr1 = lr1.predict(X1_test)\n",
    "\n",
    "print(f\"R-squared on training data is : {lr1.score(X1_train, y1_train)}\")\n",
    "print(f\"R-squared on test data is : {lr1.score(X1_test, y1_test)} \\n\")\n",
    "\n",
    "print(f'Mean absolute error is : {mean_absolute_error(y1_test, predictions_lr1)}')\n",
    "print(f'Root mean squared error is : {np.sqrt(mean_squared_error(y1_test, predictions_lr1))}')\n",
    "print(f'Mean Absolute percentage error is : {mean_absolute_percentage_error(y1_test, predictions_lr1)}')"
   ]
  },
  {
   "cell_type": "code",
   "execution_count": 44,
   "metadata": {},
   "outputs": [
    {
     "name": "stdout",
     "output_type": "stream",
     "text": [
      "[ 0.49190273  0.53052248  0.40675751 -0.70743775  0.41538099]\n",
      "0.22742519076375728\n",
      "0.4697387587390084\n"
     ]
    }
   ],
   "source": [
    "# Doing a cross_validation\n",
    "lr1_crossval = linear_model.LinearRegression()\n",
    "cross_val_lr1 = cross_val_score(lr1_crossval, X1, y, cv=5)\n",
    "\n",
    "print(cross_val_lr1)\n",
    "print(cross_val_lr1.mean())\n",
    "print(cross_val_lr1.std())"
   ]
  },
  {
   "cell_type": "code",
   "execution_count": 45,
   "metadata": {},
   "outputs": [
    {
     "name": "stdout",
     "output_type": "stream",
     "text": [
      "R-squared of training data is : 0.5444498386796814\n",
      "R-squared of test data is : 0.5635603054681149 \n",
      "\n",
      "Mean absolute error is : 0.8952979792056202\n",
      "Root mean squared error is : 1.24220921392741\n",
      "Mean Absolute percentage error is : 1.0752089627295625\n"
     ]
    }
   ],
   "source": [
    "# Trying Decision Tree\n",
    "\n",
    "dt1 = tree.DecisionTreeRegressor(max_depth=4)\n",
    "dt1.fit(X1_train, y1_train)\n",
    "\n",
    "predictions_dt1 = dt1.predict(X1_test)\n",
    "\n",
    "print(f\"R-squared of training data is : {dt1.score(X1_train, y1_train)}\")\n",
    "print(f\"R-squared of test data is : {dt1.score(X1_test, y1_test)} \\n\")\n",
    "\n",
    "print(f'Mean absolute error is : {mean_absolute_error(y1_test, predictions_dt1)}')\n",
    "print(f'Root mean squared error is : {np.sqrt(mean_squared_error(y1_test, predictions_dt1))}')\n",
    "print(f'Mean Absolute percentage error is : {mean_absolute_percentage_error(y1_test, predictions_dt1)}')"
   ]
  },
  {
   "cell_type": "code",
   "execution_count": 46,
   "metadata": {},
   "outputs": [
    {
     "name": "stdout",
     "output_type": "stream",
     "text": [
      "R-squared of training data is : 0.6281807349559524\n",
      "R-squared of test data is : 0.6266999084230787 \n",
      "\n",
      "Mean absolute error is : 0.824580841306629\n",
      "Root mean squared error is : 1.1488456202250907\n",
      "Mean Absolute percentage error is : 1.0083257728427792\n"
     ]
    }
   ],
   "source": [
    "# Trying Random Forest\n",
    "\n",
    "rf1 = ensemble.RandomForestRegressor(max_depth=4)\n",
    "rf1.fit(X1_train, y1_train)\n",
    "\n",
    "predictions_rf1 = rf1.predict(X1_test)\n",
    "\n",
    "print(f\"R-squared of training data is : {rf1.score(X1_train, y1_train)}\")\n",
    "print(f\"R-squared of test data is : {rf1.score(X1_test, y1_test)} \\n\")\n",
    "\n",
    "print(f'Mean absolute error is : {mean_absolute_error(y1_test, predictions_rf1)}')\n",
    "print(f'Root mean squared error is : {np.sqrt(mean_squared_error(y1_test, predictions_rf1))}')\n",
    "print(f'Mean Absolute percentage error is : {mean_absolute_percentage_error(y1_test, predictions_rf1)}')"
   ]
  },
  {
   "cell_type": "code",
   "execution_count": 47,
   "metadata": {},
   "outputs": [
    {
     "name": "stdout",
     "output_type": "stream",
     "text": [
      "The time taken is : 1.2084028720855713 seconds \n",
      "\n",
      "R-squared of training data is : 0.8485071913437631\n",
      "R-squared of test data is : 0.6889829892205586 \n",
      "\n",
      "Mean absolute error is : 0.7123444933409872\n",
      "Root mean squared error is : 1.048635838413933\n",
      "Mean Absolute percentage error is : 0.6923567489846381\n"
     ]
    }
   ],
   "source": [
    "# Trying Gradient Boost\n",
    "\n",
    "start_time = time.time()\n",
    "gbr1 = ensemble.GradientBoostingRegressor(n_estimators=500,\n",
    "                                     max_depth=3,\n",
    "                                     )\n",
    "\n",
    "gbr1.fit(X1_train, y1_train)\n",
    "predictions_gbr1 = gbr1.predict(X1_test)\n",
    "gbr_execution_1 = time.time() - start_time\n",
    "print(f\"The time taken is : {gbr_execution_1} seconds \\n\")\n",
    "print(f\"R-squared of training data is : {gbr1.score(X1_train, y1_train)}\")\n",
    "print(f\"R-squared of test data is : {gbr1.score(X1_test, y1_test)} \\n\")\n",
    "\n",
    "print(f'Mean absolute error is : {mean_absolute_error(y1_test, predictions_gbr1)}')\n",
    "print(f'Root mean squared error is : {np.sqrt(mean_squared_error(y1_test, predictions_gbr1))}')\n",
    "print(f'Mean Absolute percentage error is : {mean_absolute_percentage_error(y1_test, predictions_gbr1)}')"
   ]
  },
  {
   "cell_type": "code",
   "execution_count": 48,
   "metadata": {
    "scrolled": true
   },
   "outputs": [
    {
     "data": {
      "image/png": "[encoded data removed]",
      "text/plain": [
       "<Figure size 432x288 with 1 Axes>"
      ]
     },
     "metadata": {
      "needs_background": "light"
     },
     "output_type": "display_data"
    }
   ],
   "source": [
    "# PLotting the actual vs predicted value\n",
    "\n",
    "plt.scatter(y1_test, predictions_gbr1);"
   ]
  },
  {
   "cell_type": "markdown",
   "metadata": {},
   "source": [
    "### 2. Trying a new dataset with the prominent variables from the Linear Regression model"
   ]
  },
  {
   "cell_type": "code",
   "execution_count": 49,
   "metadata": {
    "scrolled": true
   },
   "outputs": [
    {
     "data": {
      "text/html": [
       "<div>\n",
       "<style scoped>\n",
       "    .dataframe tbody tr th:only-of-type {\n",
       "        vertical-align: middle;\n",
       "    }\n",
       "\n",
       "    .dataframe tbody tr th {\n",
       "        vertical-align: top;\n",
       "    }\n",
       "\n",
       "    .dataframe thead th {\n",
       "        text-align: right;\n",
       "    }\n",
       "</style>\n",
       "<table border=\"1\" class=\"dataframe\">\n",
       "  <thead>\n",
       "    <tr style=\"text-align: right;\">\n",
       "      <th></th>\n",
       "      <th>host_response_rate</th>\n",
       "      <th>host_is_superhost</th>\n",
       "      <th>host_identity_verified</th>\n",
       "      <th>accommodates</th>\n",
       "      <th>beds</th>\n",
       "      <th>security_deposit</th>\n",
       "      <th>guests_included</th>\n",
       "      <th>maximum_nights</th>\n",
       "      <th>availability_60</th>\n",
       "      <th>availability_90</th>\n",
       "      <th>...</th>\n",
       "      <th>calendar_updated_5 weeks ago</th>\n",
       "      <th>calendar_updated_6 days ago</th>\n",
       "      <th>calendar_updated_6 weeks ago</th>\n",
       "      <th>calendar_updated_7 months ago</th>\n",
       "      <th>calendar_updated_7 weeks ago</th>\n",
       "      <th>calendar_updated_8 months ago</th>\n",
       "      <th>calendar_updated_a week ago</th>\n",
       "      <th>calendar_updated_today</th>\n",
       "      <th>calendar_updated_yesterday</th>\n",
       "      <th>cancellation_policy_moderate</th>\n",
       "    </tr>\n",
       "  </thead>\n",
       "  <tbody>\n",
       "    <tr>\n",
       "      <th>0</th>\n",
       "      <td>0.960000</td>\n",
       "      <td>0</td>\n",
       "      <td>1</td>\n",
       "      <td>4</td>\n",
       "      <td>1.0</td>\n",
       "      <td>170.0</td>\n",
       "      <td>2</td>\n",
       "      <td>365</td>\n",
       "      <td>41</td>\n",
       "      <td>71</td>\n",
       "      <td>...</td>\n",
       "      <td>0</td>\n",
       "      <td>0</td>\n",
       "      <td>0</td>\n",
       "      <td>0</td>\n",
       "      <td>0</td>\n",
       "      <td>0</td>\n",
       "      <td>0</td>\n",
       "      <td>0</td>\n",
       "      <td>0</td>\n",
       "      <td>1</td>\n",
       "    </tr>\n",
       "    <tr>\n",
       "      <th>1</th>\n",
       "      <td>0.980000</td>\n",
       "      <td>1</td>\n",
       "      <td>1</td>\n",
       "      <td>4</td>\n",
       "      <td>1.0</td>\n",
       "      <td>100.0</td>\n",
       "      <td>1</td>\n",
       "      <td>90</td>\n",
       "      <td>13</td>\n",
       "      <td>16</td>\n",
       "      <td>...</td>\n",
       "      <td>0</td>\n",
       "      <td>0</td>\n",
       "      <td>0</td>\n",
       "      <td>0</td>\n",
       "      <td>0</td>\n",
       "      <td>0</td>\n",
       "      <td>0</td>\n",
       "      <td>1</td>\n",
       "      <td>0</td>\n",
       "      <td>0</td>\n",
       "    </tr>\n",
       "    <tr>\n",
       "      <th>2</th>\n",
       "      <td>0.670000</td>\n",
       "      <td>0</td>\n",
       "      <td>1</td>\n",
       "      <td>11</td>\n",
       "      <td>7.0</td>\n",
       "      <td>1000.0</td>\n",
       "      <td>10</td>\n",
       "      <td>30</td>\n",
       "      <td>6</td>\n",
       "      <td>17</td>\n",
       "      <td>...</td>\n",
       "      <td>1</td>\n",
       "      <td>0</td>\n",
       "      <td>0</td>\n",
       "      <td>0</td>\n",
       "      <td>0</td>\n",
       "      <td>0</td>\n",
       "      <td>0</td>\n",
       "      <td>0</td>\n",
       "      <td>0</td>\n",
       "      <td>0</td>\n",
       "    </tr>\n",
       "    <tr>\n",
       "      <th>4</th>\n",
       "      <td>1.000000</td>\n",
       "      <td>0</td>\n",
       "      <td>1</td>\n",
       "      <td>6</td>\n",
       "      <td>3.0</td>\n",
       "      <td>700.0</td>\n",
       "      <td>6</td>\n",
       "      <td>1125</td>\n",
       "      <td>60</td>\n",
       "      <td>90</td>\n",
       "      <td>...</td>\n",
       "      <td>0</td>\n",
       "      <td>0</td>\n",
       "      <td>0</td>\n",
       "      <td>0</td>\n",
       "      <td>1</td>\n",
       "      <td>0</td>\n",
       "      <td>0</td>\n",
       "      <td>0</td>\n",
       "      <td>0</td>\n",
       "      <td>0</td>\n",
       "    </tr>\n",
       "    <tr>\n",
       "      <th>5</th>\n",
       "      <td>0.952194</td>\n",
       "      <td>0</td>\n",
       "      <td>1</td>\n",
       "      <td>2</td>\n",
       "      <td>1.0</td>\n",
       "      <td>240.0</td>\n",
       "      <td>1</td>\n",
       "      <td>6</td>\n",
       "      <td>0</td>\n",
       "      <td>27</td>\n",
       "      <td>...</td>\n",
       "      <td>0</td>\n",
       "      <td>0</td>\n",
       "      <td>0</td>\n",
       "      <td>0</td>\n",
       "      <td>0</td>\n",
       "      <td>0</td>\n",
       "      <td>0</td>\n",
       "      <td>0</td>\n",
       "      <td>0</td>\n",
       "      <td>0</td>\n",
       "    </tr>\n",
       "    <tr>\n",
       "      <th>...</th>\n",
       "      <td>...</td>\n",
       "      <td>...</td>\n",
       "      <td>...</td>\n",
       "      <td>...</td>\n",
       "      <td>...</td>\n",
       "      <td>...</td>\n",
       "      <td>...</td>\n",
       "      <td>...</td>\n",
       "      <td>...</td>\n",
       "      <td>...</td>\n",
       "      <td>...</td>\n",
       "      <td>...</td>\n",
       "      <td>...</td>\n",
       "      <td>...</td>\n",
       "      <td>...</td>\n",
       "      <td>...</td>\n",
       "      <td>...</td>\n",
       "      <td>...</td>\n",
       "      <td>...</td>\n",
       "      <td>...</td>\n",
       "      <td>...</td>\n",
       "    </tr>\n",
       "    <tr>\n",
       "      <th>3810</th>\n",
       "      <td>1.000000</td>\n",
       "      <td>0</td>\n",
       "      <td>1</td>\n",
       "      <td>5</td>\n",
       "      <td>3.0</td>\n",
       "      <td>150.0</td>\n",
       "      <td>4</td>\n",
       "      <td>14</td>\n",
       "      <td>43</td>\n",
       "      <td>73</td>\n",
       "      <td>...</td>\n",
       "      <td>0</td>\n",
       "      <td>0</td>\n",
       "      <td>0</td>\n",
       "      <td>0</td>\n",
       "      <td>0</td>\n",
       "      <td>0</td>\n",
       "      <td>0</td>\n",
       "      <td>0</td>\n",
       "      <td>0</td>\n",
       "      <td>0</td>\n",
       "    </tr>\n",
       "    <tr>\n",
       "      <th>3811</th>\n",
       "      <td>1.000000</td>\n",
       "      <td>0</td>\n",
       "      <td>1</td>\n",
       "      <td>3</td>\n",
       "      <td>1.0</td>\n",
       "      <td>130.0</td>\n",
       "      <td>1</td>\n",
       "      <td>1125</td>\n",
       "      <td>10</td>\n",
       "      <td>13</td>\n",
       "      <td>...</td>\n",
       "      <td>0</td>\n",
       "      <td>0</td>\n",
       "      <td>0</td>\n",
       "      <td>0</td>\n",
       "      <td>0</td>\n",
       "      <td>0</td>\n",
       "      <td>1</td>\n",
       "      <td>0</td>\n",
       "      <td>0</td>\n",
       "      <td>1</td>\n",
       "    </tr>\n",
       "    <tr>\n",
       "      <th>3812</th>\n",
       "      <td>1.000000</td>\n",
       "      <td>1</td>\n",
       "      <td>1</td>\n",
       "      <td>4</td>\n",
       "      <td>2.0</td>\n",
       "      <td>500.0</td>\n",
       "      <td>2</td>\n",
       "      <td>365</td>\n",
       "      <td>30</td>\n",
       "      <td>43</td>\n",
       "      <td>...</td>\n",
       "      <td>0</td>\n",
       "      <td>0</td>\n",
       "      <td>0</td>\n",
       "      <td>0</td>\n",
       "      <td>0</td>\n",
       "      <td>0</td>\n",
       "      <td>0</td>\n",
       "      <td>0</td>\n",
       "      <td>1</td>\n",
       "      <td>1</td>\n",
       "    </tr>\n",
       "    <tr>\n",
       "      <th>3813</th>\n",
       "      <td>0.990000</td>\n",
       "      <td>0</td>\n",
       "      <td>1</td>\n",
       "      <td>6</td>\n",
       "      <td>3.0</td>\n",
       "      <td>718.0</td>\n",
       "      <td>1</td>\n",
       "      <td>1125</td>\n",
       "      <td>32</td>\n",
       "      <td>32</td>\n",
       "      <td>...</td>\n",
       "      <td>0</td>\n",
       "      <td>0</td>\n",
       "      <td>0</td>\n",
       "      <td>0</td>\n",
       "      <td>0</td>\n",
       "      <td>0</td>\n",
       "      <td>0</td>\n",
       "      <td>1</td>\n",
       "      <td>0</td>\n",
       "      <td>0</td>\n",
       "    </tr>\n",
       "    <tr>\n",
       "      <th>3814</th>\n",
       "      <td>1.000000</td>\n",
       "      <td>0</td>\n",
       "      <td>1</td>\n",
       "      <td>4</td>\n",
       "      <td>2.0</td>\n",
       "      <td>500.0</td>\n",
       "      <td>3</td>\n",
       "      <td>29</td>\n",
       "      <td>26</td>\n",
       "      <td>44</td>\n",
       "      <td>...</td>\n",
       "      <td>0</td>\n",
       "      <td>0</td>\n",
       "      <td>0</td>\n",
       "      <td>0</td>\n",
       "      <td>0</td>\n",
       "      <td>0</td>\n",
       "      <td>0</td>\n",
       "      <td>0</td>\n",
       "      <td>0</td>\n",
       "      <td>1</td>\n",
       "    </tr>\n",
       "  </tbody>\n",
       "</table>\n",
       "<p>3191 rows × 51 columns</p>\n",
       "</div>"
      ],
      "text/plain": [
       "      host_response_rate  host_is_superhost  host_identity_verified  \\\n",
       "0               0.960000                  0                       1   \n",
       "1               0.980000                  1                       1   \n",
       "2               0.670000                  0                       1   \n",
       "4               1.000000                  0                       1   \n",
       "5               0.952194                  0                       1   \n",
       "...                  ...                ...                     ...   \n",
       "3810            1.000000                  0                       1   \n",
       "3811            1.000000                  0                       1   \n",
       "3812            1.000000                  1                       1   \n",
       "3813            0.990000                  0                       1   \n",
       "3814            1.000000                  0                       1   \n",
       "\n",
       "      accommodates  beds  security_deposit  guests_included  maximum_nights  \\\n",
       "0                4   1.0             170.0                2             365   \n",
       "1                4   1.0             100.0                1              90   \n",
       "2               11   7.0            1000.0               10              30   \n",
       "4                6   3.0             700.0                6            1125   \n",
       "5                2   1.0             240.0                1               6   \n",
       "...            ...   ...               ...              ...             ...   \n",
       "3810             5   3.0             150.0                4              14   \n",
       "3811             3   1.0             130.0                1            1125   \n",
       "3812             4   2.0             500.0                2             365   \n",
       "3813             6   3.0             718.0                1            1125   \n",
       "3814             4   2.0             500.0                3              29   \n",
       "\n",
       "      availability_60  availability_90  ...  calendar_updated_5 weeks ago  \\\n",
       "0                  41               71  ...                             0   \n",
       "1                  13               16  ...                             0   \n",
       "2                   6               17  ...                             1   \n",
       "4                  60               90  ...                             0   \n",
       "5                   0               27  ...                             0   \n",
       "...               ...              ...  ...                           ...   \n",
       "3810               43               73  ...                             0   \n",
       "3811               10               13  ...                             0   \n",
       "3812               30               43  ...                             0   \n",
       "3813               32               32  ...                             0   \n",
       "3814               26               44  ...                             0   \n",
       "\n",
       "      calendar_updated_6 days ago  calendar_updated_6 weeks ago  \\\n",
       "0                               0                             0   \n",
       "1                               0                             0   \n",
       "2                               0                             0   \n",
       "4                               0                             0   \n",
       "5                               0                             0   \n",
       "...                           ...                           ...   \n",
       "3810                            0                             0   \n",
       "3811                            0                             0   \n",
       "3812                            0                             0   \n",
       "3813                            0                             0   \n",
       "3814                            0                             0   \n",
       "\n",
       "      calendar_updated_7 months ago  calendar_updated_7 weeks ago  \\\n",
       "0                                 0                             0   \n",
       "1                                 0                             0   \n",
       "2                                 0                             0   \n",
       "4                                 0                             1   \n",
       "5                                 0                             0   \n",
       "...                             ...                           ...   \n",
       "3810                              0                             0   \n",
       "3811                              0                             0   \n",
       "3812                              0                             0   \n",
       "3813                              0                             0   \n",
       "3814                              0                             0   \n",
       "\n",
       "      calendar_updated_8 months ago  calendar_updated_a week ago  \\\n",
       "0                                 0                            0   \n",
       "1                                 0                            0   \n",
       "2                                 0                            0   \n",
       "4                                 0                            0   \n",
       "5                                 0                            0   \n",
       "...                             ...                          ...   \n",
       "3810                              0                            0   \n",
       "3811                              0                            1   \n",
       "3812                              0                            0   \n",
       "3813                              0                            0   \n",
       "3814                              0                            0   \n",
       "\n",
       "      calendar_updated_today  calendar_updated_yesterday  \\\n",
       "0                          0                           0   \n",
       "1                          1                           0   \n",
       "2                          0                           0   \n",
       "4                          0                           0   \n",
       "5                          0                           0   \n",
       "...                      ...                         ...   \n",
       "3810                       0                           0   \n",
       "3811                       0                           0   \n",
       "3812                       0                           1   \n",
       "3813                       1                           0   \n",
       "3814                       0                           0   \n",
       "\n",
       "      cancellation_policy_moderate  \n",
       "0                                1  \n",
       "1                                0  \n",
       "2                                0  \n",
       "4                                0  \n",
       "5                                0  \n",
       "...                            ...  \n",
       "3810                             0  \n",
       "3811                             1  \n",
       "3812                             1  \n",
       "3813                             0  \n",
       "3814                             1  \n",
       "\n",
       "[3191 rows x 51 columns]"
      ]
     },
     "execution_count": 49,
     "metadata": {},
     "output_type": "execute_result"
    }
   ],
   "source": [
    "X2 = X[coeff_comparison[coeff_comparison['LR coefficients'] > 0.0001].index]\n",
    "X2"
   ]
  },
  {
   "cell_type": "code",
   "execution_count": 50,
   "metadata": {},
   "outputs": [],
   "source": [
    "# splitting into training and test sets\n",
    "X2_train, X2_test, y2_train, y2_test = train_test_split(X2, y, random_state=200)"
   ]
  },
  {
   "cell_type": "code",
   "execution_count": 51,
   "metadata": {},
   "outputs": [
    {
     "name": "stdout",
     "output_type": "stream",
     "text": [
      "R-squared on training data is : 0.4926941850989681\n",
      "R-squared on test data is : 0.4407432686567079 \n",
      "\n",
      "Mean absolute error is : 1.0029918140233243\n",
      "Root mean squared error is : 1.3850962461821543\n",
      "Mean Absolute percentage error is : 1.1179508284118644\n"
     ]
    }
   ],
   "source": [
    "# Trying Linear Regression\n",
    "\n",
    "lr2 = linear_model.LinearRegression()\n",
    "lr2.fit(X2_train, y2_train)\n",
    "\n",
    "predictions_lr2 = lr2.predict(X2_test)\n",
    "\n",
    "print(f\"R-squared on training data is : {lr2.score(X2_train, y2_train)}\")\n",
    "print(f\"R-squared on test data is : {lr2.score(X2_test, y2_test)} \\n\")\n",
    "\n",
    "print(f'Mean absolute error is : {mean_absolute_error(y2_test, predictions_lr2)}')\n",
    "print(f'Root mean squared error is : {np.sqrt(mean_squared_error(y2_test, predictions_lr2))}')\n",
    "print(f'Mean Absolute percentage error is : {mean_absolute_percentage_error(y2_test, predictions_lr2)}')"
   ]
  },
  {
   "cell_type": "code",
   "execution_count": 52,
   "metadata": {},
   "outputs": [
    {
     "name": "stdout",
     "output_type": "stream",
     "text": [
      "R-squared of training data is : 0.508189725736965\n",
      "R-squared of test data is : 0.4071031841175101 \n",
      "\n",
      "Mean absolute error is : 1.0117677383358927\n",
      "Root mean squared error is : 1.4261457145092018\n",
      "Mean Absolute percentage error is : 0.9817654729730426\n"
     ]
    }
   ],
   "source": [
    "# Trying Decision Tree\n",
    "\n",
    "dt2 = tree.DecisionTreeRegressor(max_depth=4)\n",
    "dt2.fit(X2_train, y2_train)\n",
    "\n",
    "predictions_dt2 = dt2.predict(X2_test)\n",
    "\n",
    "print(f\"R-squared of training data is : {dt2.score(X2_train, y2_train)}\")\n",
    "print(f\"R-squared of test data is : {dt2.score(X2_test, y2_test)} \\n\")\n",
    "\n",
    "print(f'Mean absolute error is : {mean_absolute_error(y2_test, predictions_dt2)}')\n",
    "print(f'Root mean squared error is : {np.sqrt(mean_squared_error(y2_test, predictions_dt2))}')\n",
    "print(f'Mean Absolute percentage error is : {mean_absolute_percentage_error(y2_test, predictions_dt2)}')"
   ]
  },
  {
   "cell_type": "code",
   "execution_count": 53,
   "metadata": {},
   "outputs": [
    {
     "name": "stdout",
     "output_type": "stream",
     "text": [
      "R-squared of training data is : 0.5467760790995635\n",
      "R-squared of test data is : 0.4867717976060162 \n",
      "\n",
      "Mean absolute error is : 0.9398157621400507\n",
      "Root mean squared error is : 1.3268737392806216\n",
      "Mean Absolute percentage error is : 0.9421221270990506\n"
     ]
    }
   ],
   "source": [
    "# Trying Random Forest\n",
    "\n",
    "rf2 = ensemble.RandomForestRegressor(max_depth=4)\n",
    "rf2.fit(X2_train, y2_train)\n",
    "\n",
    "predictions_rf2 = rf2.predict(X2_test)\n",
    "\n",
    "print(f\"R-squared of training data is : {rf2.score(X2_train, y2_train)}\")\n",
    "print(f\"R-squared of test data is : {rf2.score(X2_test, y2_test)} \\n\")\n",
    "\n",
    "print(f'Mean absolute error is : {mean_absolute_error(y2_test, predictions_rf2)}')\n",
    "print(f'Root mean squared error is : {np.sqrt(mean_squared_error(y2_test, predictions_rf2))}')\n",
    "print(f'Mean Absolute percentage error is : {mean_absolute_percentage_error(y2_test, predictions_rf2)}')"
   ]
  },
  {
   "cell_type": "code",
   "execution_count": 54,
   "metadata": {},
   "outputs": [
    {
     "name": "stdout",
     "output_type": "stream",
     "text": [
      "The time taken is : 2.4607198238372803 seconds \n",
      "\n",
      "R-squared of training data is : 0.8322268424114774\n",
      "R-squared of test data is : 0.5400588443131571 \n",
      "\n",
      "Mean absolute error is : 0.885908851990584\n",
      "Root mean squared error is : 1.2561036520474438\n",
      "Mean Absolute percentage error is : 0.7525830614312613\n"
     ]
    }
   ],
   "source": [
    "# Trying Gradient Boost\n",
    "\n",
    "start_time = time.time()\n",
    "gbr2 = ensemble.GradientBoostingRegressor(n_estimators=500,\n",
    "                                     max_depth=3,\n",
    "                                     )\n",
    "\n",
    "gbr2.fit(X2_train, y2_train)\n",
    "predictions_gbr2 = gbr2.predict(X2_test)\n",
    "\n",
    "gbr_execution_2 = time.time() - start_time\n",
    "print(f\"The time taken is : {gbr_execution_2} seconds \\n\")\n",
    "print(f\"R-squared of training data is : {gbr2.score(X2_train, y2_train)}\")\n",
    "print(f\"R-squared of test data is : {gbr2.score(X2_test, y2_test)} \\n\")\n",
    "\n",
    "print(f'Mean absolute error is : {mean_absolute_error(y2_test, predictions_gbr2)}')\n",
    "print(f'Root mean squared error is : {np.sqrt(mean_squared_error(y2_test, predictions_gbr2))}')\n",
    "print(f'Mean Absolute percentage error is : {mean_absolute_percentage_error(y2_test, predictions_gbr2)}')"
   ]
  },
  {
   "cell_type": "code",
   "execution_count": 55,
   "metadata": {
    "scrolled": true
   },
   "outputs": [
    {
     "data": {
      "image/png": "[encoded data removed]",
      "text/plain": [
       "<Figure size 432x288 with 1 Axes>"
      ]
     },
     "metadata": {
      "needs_background": "light"
     },
     "output_type": "display_data"
    }
   ],
   "source": [
    "# Plotting the actual vs predicted values\n",
    "\n",
    "plt.scatter(y2_test, predictions_gbr2);"
   ]
  },
  {
   "cell_type": "code",
   "execution_count": 56,
   "metadata": {},
   "outputs": [],
   "source": [
    "# Comparing the model performances from the 3 datasets\n",
    "\n",
    "performance_df = pd.DataFrame()\n",
    "\n",
    "# Linear Regression\n",
    "performance_df['LR'] = [lr.score(X_train, y_train), lr.score(X_test, y_test), \n",
    "                        mean_absolute_error(y_test, predictions_lr), np.sqrt(mean_squared_error(y_test, predictions_lr)),\n",
    "                       mean_absolute_percentage_error(y_test, predictions_lr)]\n",
    "\n",
    "performance_df['LR1'] = [lr1.score(X1_train, y1_train), lr1.score(X1_test, y1_test), \n",
    "                        mean_absolute_error(y1_test, predictions_lr1), np.sqrt(mean_squared_error(y1_test, predictions_lr1)),\n",
    "                       mean_absolute_percentage_error(y1_test, predictions_lr1)]\n",
    "\n",
    "performance_df['LR2'] = [lr2.score(X2_train, y2_train), lr2.score(X2_test, y2_test), \n",
    "                        mean_absolute_error(y2_test, predictions_lr2), np.sqrt(mean_squared_error(y2_test, predictions_lr2)),\n",
    "                       mean_absolute_percentage_error(y2_test, predictions_lr2)]\n",
    "\n",
    "# Decision Tree\n",
    "performance_df['DT'] = [dt.score(X_train, y_train), dt.score(X_test, y_test), \n",
    "                        mean_absolute_error(y_test, predictions_dt), np.sqrt(mean_squared_error(y_test, predictions_dt)),\n",
    "                       mean_absolute_percentage_error(y_test, predictions_dt)]\n",
    "\n",
    "performance_df['DT1'] = [dt1.score(X1_train, y1_train), dt1.score(X1_test, y1_test), \n",
    "                        mean_absolute_error(y1_test, predictions_dt1), np.sqrt(mean_squared_error(y1_test, predictions_dt1)),\n",
    "                       mean_absolute_percentage_error(y1_test, predictions_dt1)]\n",
    "\n",
    "performance_df['DT2'] = [dt2.score(X2_train, y2_train), dt2.score(X2_test, y2_test), \n",
    "                        mean_absolute_error(y2_test, predictions_dt2), np.sqrt(mean_squared_error(y2_test, predictions_dt2)),\n",
    "                       mean_absolute_percentage_error(y2_test, predictions_dt2)]\n",
    "\n",
    "# Random Forest\n",
    "performance_df['RF'] = [rf.score(X_train, y_train), rf.score(X_test, y_test), \n",
    "                        mean_absolute_error(y_test, predictions_rf), np.sqrt(mean_squared_error(y_test, predictions_rf)),\n",
    "                       mean_absolute_percentage_error(y_test, predictions_rf)]\n",
    "\n",
    "performance_df['RF1'] = [rf1.score(X1_train, y1_train), rf1.score(X1_test, y1_test), \n",
    "                        mean_absolute_error(y1_test, predictions_rf1), np.sqrt(mean_squared_error(y1_test, predictions_rf1)),\n",
    "                       mean_absolute_percentage_error(y1_test, predictions_rf1)]\n",
    "\n",
    "performance_df['RF2'] = [rf2.score(X2_train, y2_train), rf2.score(X2_test, y2_test), \n",
    "                        mean_absolute_error(y2_test, predictions_rf2), np.sqrt(mean_squared_error(y2_test, predictions_rf2)),\n",
    "                       mean_absolute_percentage_error(y2_test, predictions_rf2)]\n",
    "\n",
    "# Gradient Boost\n",
    "performance_df['GBR'] = [gbr.score(X_train, y_train), gbr.score(X_test, y_test), \n",
    "                        mean_absolute_error(y_test, predictions_gbr), np.sqrt(mean_squared_error(y_test, predictions_gbr)),\n",
    "                       mean_absolute_percentage_error(y_test, predictions_gbr)]\n",
    "\n",
    "performance_df['GBR1'] = [gbr1.score(X1_train, y1_train), gbr1.score(X1_test, y1_test), \n",
    "                        mean_absolute_error(y1_test, predictions_gbr1), np.sqrt(mean_squared_error(y1_test, predictions_gbr1)),\n",
    "                       mean_absolute_percentage_error(y1_test, predictions_gbr1)]\n",
    "\n",
    "performance_df['GBR2'] = [gbr2.score(X2_train, y2_train), gbr2.score(X2_test, y2_test), \n",
    "                        mean_absolute_error(y2_test, predictions_gbr2), np.sqrt(mean_squared_error(y2_test, predictions_gbr2)),\n",
    "                       mean_absolute_percentage_error(y2_test, predictions_gbr2)]\n",
    "\n"
   ]
  },
  {
   "cell_type": "code",
   "execution_count": 57,
   "metadata": {
    "scrolled": true
   },
   "outputs": [
    {
     "data": {
      "text/html": [
       "<div>\n",
       "<style scoped>\n",
       "    .dataframe tbody tr th:only-of-type {\n",
       "        vertical-align: middle;\n",
       "    }\n",
       "\n",
       "    .dataframe tbody tr th {\n",
       "        vertical-align: top;\n",
       "    }\n",
       "\n",
       "    .dataframe thead th {\n",
       "        text-align: right;\n",
       "    }\n",
       "</style>\n",
       "<table border=\"1\" class=\"dataframe\">\n",
       "  <thead>\n",
       "    <tr style=\"text-align: right;\">\n",
       "      <th></th>\n",
       "      <th>LR</th>\n",
       "      <th>LR1</th>\n",
       "      <th>LR2</th>\n",
       "      <th>DT</th>\n",
       "      <th>DT1</th>\n",
       "      <th>DT2</th>\n",
       "      <th>RF</th>\n",
       "      <th>RF1</th>\n",
       "      <th>RF2</th>\n",
       "      <th>GBR</th>\n",
       "      <th>GBR1</th>\n",
       "      <th>GBR2</th>\n",
       "    </tr>\n",
       "  </thead>\n",
       "  <tbody>\n",
       "    <tr>\n",
       "      <th>R-squared training</th>\n",
       "      <td>0.575967</td>\n",
       "      <td>0.459530</td>\n",
       "      <td>0.492694</td>\n",
       "      <td>0.570801</td>\n",
       "      <td>0.544450</td>\n",
       "      <td>0.508190</td>\n",
       "      <td>0.634833</td>\n",
       "      <td>0.628181</td>\n",
       "      <td>0.546776</td>\n",
       "      <td>0.922480</td>\n",
       "      <td>0.848507</td>\n",
       "      <td>0.832227</td>\n",
       "    </tr>\n",
       "    <tr>\n",
       "      <th>R-squared test</th>\n",
       "      <td>0.470794</td>\n",
       "      <td>0.529989</td>\n",
       "      <td>0.440743</td>\n",
       "      <td>0.507378</td>\n",
       "      <td>0.563560</td>\n",
       "      <td>0.407103</td>\n",
       "      <td>0.593276</td>\n",
       "      <td>0.626700</td>\n",
       "      <td>0.486772</td>\n",
       "      <td>0.716161</td>\n",
       "      <td>0.688983</td>\n",
       "      <td>0.540059</td>\n",
       "    </tr>\n",
       "    <tr>\n",
       "      <th>MAE</th>\n",
       "      <td>0.930490</td>\n",
       "      <td>0.964699</td>\n",
       "      <td>1.002992</td>\n",
       "      <td>0.925688</td>\n",
       "      <td>0.895298</td>\n",
       "      <td>1.011768</td>\n",
       "      <td>0.846127</td>\n",
       "      <td>0.824581</td>\n",
       "      <td>0.939816</td>\n",
       "      <td>0.707504</td>\n",
       "      <td>0.712344</td>\n",
       "      <td>0.885909</td>\n",
       "    </tr>\n",
       "    <tr>\n",
       "      <th>RMSE</th>\n",
       "      <td>1.381082</td>\n",
       "      <td>1.289100</td>\n",
       "      <td>1.385096</td>\n",
       "      <td>1.332490</td>\n",
       "      <td>1.242209</td>\n",
       "      <td>1.426146</td>\n",
       "      <td>1.210758</td>\n",
       "      <td>1.148846</td>\n",
       "      <td>1.326874</td>\n",
       "      <td>1.011447</td>\n",
       "      <td>1.048636</td>\n",
       "      <td>1.256104</td>\n",
       "    </tr>\n",
       "    <tr>\n",
       "      <th>MAPE</th>\n",
       "      <td>0.949139</td>\n",
       "      <td>1.274281</td>\n",
       "      <td>1.117951</td>\n",
       "      <td>0.848837</td>\n",
       "      <td>1.075209</td>\n",
       "      <td>0.981765</td>\n",
       "      <td>0.833847</td>\n",
       "      <td>1.008326</td>\n",
       "      <td>0.942122</td>\n",
       "      <td>0.598596</td>\n",
       "      <td>0.692357</td>\n",
       "      <td>0.752583</td>\n",
       "    </tr>\n",
       "  </tbody>\n",
       "</table>\n",
       "</div>"
      ],
      "text/plain": [
       "                          LR       LR1       LR2        DT       DT1  \\\n",
       "R-squared training  0.575967  0.459530  0.492694  0.570801  0.544450   \n",
       "R-squared test      0.470794  0.529989  0.440743  0.507378  0.563560   \n",
       "MAE                 0.930490  0.964699  1.002992  0.925688  0.895298   \n",
       "RMSE                1.381082  1.289100  1.385096  1.332490  1.242209   \n",
       "MAPE                0.949139  1.274281  1.117951  0.848837  1.075209   \n",
       "\n",
       "                         DT2        RF       RF1       RF2       GBR  \\\n",
       "R-squared training  0.508190  0.634833  0.628181  0.546776  0.922480   \n",
       "R-squared test      0.407103  0.593276  0.626700  0.486772  0.716161   \n",
       "MAE                 1.011768  0.846127  0.824581  0.939816  0.707504   \n",
       "RMSE                1.426146  1.210758  1.148846  1.326874  1.011447   \n",
       "MAPE                0.981765  0.833847  1.008326  0.942122  0.598596   \n",
       "\n",
       "                        GBR1      GBR2  \n",
       "R-squared training  0.848507  0.832227  \n",
       "R-squared test      0.688983  0.540059  \n",
       "MAE                 0.712344  0.885909  \n",
       "RMSE                1.048636  1.256104  \n",
       "MAPE                0.692357  0.752583  "
      ]
     },
     "execution_count": 57,
     "metadata": {},
     "output_type": "execute_result"
    }
   ],
   "source": [
    "performance_df.index = ['R-squared training', 'R-squared test', 'MAE', 'RMSE', 'MAPE']\n",
    "performance_df"
   ]
  },
  {
   "cell_type": "markdown",
   "metadata": {},
   "source": [
    "### Observation\n",
    "\n",
    "- Across all the 3 datasets, Gradient Boost gives the best results."
   ]
  },
  {
   "cell_type": "markdown",
   "metadata": {},
   "source": [
    "### Continuing the analysis with the most prominent variables from the Gradient Boost model"
   ]
  },
  {
   "cell_type": "code",
   "execution_count": 58,
   "metadata": {
    "scrolled": true
   },
   "outputs": [
    {
     "data": {
      "text/html": [
       "<div>\n",
       "<style scoped>\n",
       "    .dataframe tbody tr th:only-of-type {\n",
       "        vertical-align: middle;\n",
       "    }\n",
       "\n",
       "    .dataframe tbody tr th {\n",
       "        vertical-align: top;\n",
       "    }\n",
       "\n",
       "    .dataframe thead th {\n",
       "        text-align: right;\n",
       "    }\n",
       "</style>\n",
       "<table border=\"1\" class=\"dataframe\">\n",
       "  <thead>\n",
       "    <tr style=\"text-align: right;\">\n",
       "      <th></th>\n",
       "      <th>LR coefficients</th>\n",
       "      <th>DT coefficients</th>\n",
       "      <th>GBR coefficients</th>\n",
       "    </tr>\n",
       "  </thead>\n",
       "  <tbody>\n",
       "    <tr>\n",
       "      <th>host_since</th>\n",
       "      <td>-0.000629</td>\n",
       "      <td>0.19279</td>\n",
       "      <td>0.131019</td>\n",
       "    </tr>\n",
       "    <tr>\n",
       "      <th>host_response_rate</th>\n",
       "      <td>0.091693</td>\n",
       "      <td>0.00383</td>\n",
       "      <td>0.007592</td>\n",
       "    </tr>\n",
       "    <tr>\n",
       "      <th>host_is_superhost</th>\n",
       "      <td>0.349974</td>\n",
       "      <td>0.00000</td>\n",
       "      <td>0.004185</td>\n",
       "    </tr>\n",
       "    <tr>\n",
       "      <th>host_listings_count</th>\n",
       "      <td>-0.005905</td>\n",
       "      <td>0.00000</td>\n",
       "      <td>0.003819</td>\n",
       "    </tr>\n",
       "    <tr>\n",
       "      <th>host_identity_verified</th>\n",
       "      <td>0.280335</td>\n",
       "      <td>0.00000</td>\n",
       "      <td>0.001336</td>\n",
       "    </tr>\n",
       "    <tr>\n",
       "      <th>...</th>\n",
       "      <td>...</td>\n",
       "      <td>...</td>\n",
       "      <td>...</td>\n",
       "    </tr>\n",
       "    <tr>\n",
       "      <th>calendar_updated_today</th>\n",
       "      <td>1.016021</td>\n",
       "      <td>0.00000</td>\n",
       "      <td>0.007544</td>\n",
       "    </tr>\n",
       "    <tr>\n",
       "      <th>calendar_updated_yesterday</th>\n",
       "      <td>0.793255</td>\n",
       "      <td>0.00000</td>\n",
       "      <td>0.000986</td>\n",
       "    </tr>\n",
       "    <tr>\n",
       "      <th>cancellation_policy_flexible</th>\n",
       "      <td>-0.013309</td>\n",
       "      <td>0.00000</td>\n",
       "      <td>0.000292</td>\n",
       "    </tr>\n",
       "    <tr>\n",
       "      <th>cancellation_policy_moderate</th>\n",
       "      <td>0.081441</td>\n",
       "      <td>0.00000</td>\n",
       "      <td>0.000696</td>\n",
       "    </tr>\n",
       "    <tr>\n",
       "      <th>cancellation_policy_strict</th>\n",
       "      <td>-0.068132</td>\n",
       "      <td>0.00000</td>\n",
       "      <td>0.000401</td>\n",
       "    </tr>\n",
       "  </tbody>\n",
       "</table>\n",
       "<p>98 rows × 3 columns</p>\n",
       "</div>"
      ],
      "text/plain": [
       "                              LR coefficients  DT coefficients  \\\n",
       "host_since                          -0.000629          0.19279   \n",
       "host_response_rate                   0.091693          0.00383   \n",
       "host_is_superhost                    0.349974          0.00000   \n",
       "host_listings_count                 -0.005905          0.00000   \n",
       "host_identity_verified               0.280335          0.00000   \n",
       "...                                       ...              ...   \n",
       "calendar_updated_today               1.016021          0.00000   \n",
       "calendar_updated_yesterday           0.793255          0.00000   \n",
       "cancellation_policy_flexible        -0.013309          0.00000   \n",
       "cancellation_policy_moderate         0.081441          0.00000   \n",
       "cancellation_policy_strict          -0.068132          0.00000   \n",
       "\n",
       "                              GBR coefficients  \n",
       "host_since                            0.131019  \n",
       "host_response_rate                    0.007592  \n",
       "host_is_superhost                     0.004185  \n",
       "host_listings_count                   0.003819  \n",
       "host_identity_verified                0.001336  \n",
       "...                                        ...  \n",
       "calendar_updated_today                0.007544  \n",
       "calendar_updated_yesterday            0.000986  \n",
       "cancellation_policy_flexible          0.000292  \n",
       "cancellation_policy_moderate          0.000696  \n",
       "cancellation_policy_strict            0.000401  \n",
       "\n",
       "[98 rows x 3 columns]"
      ]
     },
     "execution_count": 58,
     "metadata": {},
     "output_type": "execute_result"
    }
   ],
   "source": [
    "coeff_comparison['GBR coefficients'] = gbr.feature_importances_\n",
    "coeff_comparison"
   ]
  },
  {
   "cell_type": "code",
   "execution_count": 59,
   "metadata": {
    "scrolled": false
   },
   "outputs": [
    {
     "data": {
      "text/plain": [
       "number_of_reviews                    0.506132\n",
       "host_since                           0.131019\n",
       "minimum_nights                       0.050063\n",
       "host_response_time_within an hour    0.036012\n",
       "cleaning_fee                         0.032440\n",
       "availability_30                      0.027893\n",
       "instant_bookable                     0.020884\n",
       "availability_365                     0.014688\n",
       "latitude                             0.012494\n",
       "longitude                            0.011377\n",
       "availability_60                      0.011107\n",
       "availability_90                      0.010337\n",
       "Name: GBR coefficients, dtype: float64"
      ]
     },
     "execution_count": 59,
     "metadata": {},
     "output_type": "execute_result"
    }
   ],
   "source": [
    "# Taking the best 12 variables\n",
    "\n",
    "coeff_comparison['GBR coefficients'].sort_values(ascending=False)[0:12]"
   ]
  },
  {
   "cell_type": "code",
   "execution_count": 60,
   "metadata": {},
   "outputs": [
    {
     "data": {
      "text/html": [
       "<div>\n",
       "<style scoped>\n",
       "    .dataframe tbody tr th:only-of-type {\n",
       "        vertical-align: middle;\n",
       "    }\n",
       "\n",
       "    .dataframe tbody tr th {\n",
       "        vertical-align: top;\n",
       "    }\n",
       "\n",
       "    .dataframe thead th {\n",
       "        text-align: right;\n",
       "    }\n",
       "</style>\n",
       "<table border=\"1\" class=\"dataframe\">\n",
       "  <thead>\n",
       "    <tr style=\"text-align: right;\">\n",
       "      <th></th>\n",
       "      <th>number_of_reviews</th>\n",
       "      <th>host_since</th>\n",
       "      <th>minimum_nights</th>\n",
       "      <th>host_response_time_within an hour</th>\n",
       "      <th>cleaning_fee</th>\n",
       "      <th>availability_30</th>\n",
       "      <th>instant_bookable</th>\n",
       "      <th>availability_365</th>\n",
       "      <th>latitude</th>\n",
       "      <th>longitude</th>\n",
       "      <th>availability_60</th>\n",
       "      <th>availability_90</th>\n",
       "    </tr>\n",
       "  </thead>\n",
       "  <tbody>\n",
       "    <tr>\n",
       "      <th>0</th>\n",
       "      <td>207</td>\n",
       "      <td>3529</td>\n",
       "      <td>1</td>\n",
       "      <td>0</td>\n",
       "      <td>34.0</td>\n",
       "      <td>14</td>\n",
       "      <td>0</td>\n",
       "      <td>346</td>\n",
       "      <td>47.636289</td>\n",
       "      <td>-122.371025</td>\n",
       "      <td>41</td>\n",
       "      <td>71</td>\n",
       "    </tr>\n",
       "    <tr>\n",
       "      <th>1</th>\n",
       "      <td>43</td>\n",
       "      <td>2969</td>\n",
       "      <td>2</td>\n",
       "      <td>1</td>\n",
       "      <td>40.0</td>\n",
       "      <td>13</td>\n",
       "      <td>0</td>\n",
       "      <td>291</td>\n",
       "      <td>47.639123</td>\n",
       "      <td>-122.365666</td>\n",
       "      <td>13</td>\n",
       "      <td>16</td>\n",
       "    </tr>\n",
       "    <tr>\n",
       "      <th>2</th>\n",
       "      <td>20</td>\n",
       "      <td>2493</td>\n",
       "      <td>4</td>\n",
       "      <td>0</td>\n",
       "      <td>300.0</td>\n",
       "      <td>1</td>\n",
       "      <td>0</td>\n",
       "      <td>220</td>\n",
       "      <td>47.629724</td>\n",
       "      <td>-122.369483</td>\n",
       "      <td>6</td>\n",
       "      <td>17</td>\n",
       "    </tr>\n",
       "    <tr>\n",
       "      <th>4</th>\n",
       "      <td>38</td>\n",
       "      <td>3419</td>\n",
       "      <td>1</td>\n",
       "      <td>1</td>\n",
       "      <td>125.0</td>\n",
       "      <td>30</td>\n",
       "      <td>0</td>\n",
       "      <td>365</td>\n",
       "      <td>47.632918</td>\n",
       "      <td>-122.372471</td>\n",
       "      <td>60</td>\n",
       "      <td>90</td>\n",
       "    </tr>\n",
       "    <tr>\n",
       "      <th>5</th>\n",
       "      <td>17</td>\n",
       "      <td>3758</td>\n",
       "      <td>1</td>\n",
       "      <td>0</td>\n",
       "      <td>40.0</td>\n",
       "      <td>0</td>\n",
       "      <td>0</td>\n",
       "      <td>302</td>\n",
       "      <td>47.630525</td>\n",
       "      <td>-122.366174</td>\n",
       "      <td>0</td>\n",
       "      <td>27</td>\n",
       "    </tr>\n",
       "  </tbody>\n",
       "</table>\n",
       "</div>"
      ],
      "text/plain": [
       "   number_of_reviews  host_since  minimum_nights  \\\n",
       "0                207        3529               1   \n",
       "1                 43        2969               2   \n",
       "2                 20        2493               4   \n",
       "4                 38        3419               1   \n",
       "5                 17        3758               1   \n",
       "\n",
       "   host_response_time_within an hour  cleaning_fee  availability_30  \\\n",
       "0                                  0          34.0               14   \n",
       "1                                  1          40.0               13   \n",
       "2                                  0         300.0                1   \n",
       "4                                  1         125.0               30   \n",
       "5                                  0          40.0                0   \n",
       "\n",
       "   instant_bookable  availability_365   latitude   longitude  availability_60  \\\n",
       "0                 0               346  47.636289 -122.371025               41   \n",
       "1                 0               291  47.639123 -122.365666               13   \n",
       "2                 0               220  47.629724 -122.369483                6   \n",
       "4                 0               365  47.632918 -122.372471               60   \n",
       "5                 0               302  47.630525 -122.366174                0   \n",
       "\n",
       "   availability_90  \n",
       "0               71  \n",
       "1               16  \n",
       "2               17  \n",
       "4               90  \n",
       "5               27  "
      ]
     },
     "execution_count": 60,
     "metadata": {},
     "output_type": "execute_result"
    }
   ],
   "source": [
    "# Creating a new dataset with these 12 variables\n",
    "\n",
    "columns_gbr = coeff_comparison['GBR coefficients'].sort_values(ascending=False)[0:12].index\n",
    "X3 = X[columns_gbr]\n",
    "X3.head()"
   ]
  },
  {
   "cell_type": "code",
   "execution_count": 61,
   "metadata": {},
   "outputs": [],
   "source": [
    "# Splitting into training and test datasets\n",
    "\n",
    "X3_train, X3_test, y3_train, y3_test = train_test_split(X3, y, random_state=150)"
   ]
  },
  {
   "cell_type": "code",
   "execution_count": 62,
   "metadata": {},
   "outputs": [
    {
     "name": "stdout",
     "output_type": "stream",
     "text": [
      "R-squared on training data is : 0.4984401969321093\n",
      "R-squared on test data is : -0.6538057702231057 \n",
      "\n",
      "Mean absolute error is : 1.02279921884355\n",
      "Root mean squared error is : 2.3281673469275135\n",
      "Mean Absolute percentage error is : 1.2573017415720313\n"
     ]
    }
   ],
   "source": [
    "# Trying Linear Regression\n",
    "\n",
    "lr3 = linear_model.LinearRegression()\n",
    "lr3.fit(X3_train, y3_train)\n",
    "\n",
    "predictions_lr3 = lr3.predict(X3_test)\n",
    "\n",
    "print(f\"R-squared on training data is : {lr3.score(X3_train, y3_train)}\")\n",
    "print(f\"R-squared on test data is : {lr3.score(X3_test, y3_test)} \\n\")\n",
    "\n",
    "print(f'Mean absolute error is : {mean_absolute_error(y3_test, predictions_lr3)}')\n",
    "print(f'Root mean squared error is : {np.sqrt(mean_squared_error(y3_test, predictions_lr3))}')\n",
    "print(f'Mean Absolute percentage error is : {mean_absolute_percentage_error(y3_test, predictions_lr3)}')"
   ]
  },
  {
   "cell_type": "code",
   "execution_count": 63,
   "metadata": {},
   "outputs": [
    {
     "name": "stdout",
     "output_type": "stream",
     "text": [
      "R-squared of training data is : 0.5634014200987534\n",
      "R-squared of test data is : 0.4728981986168155 \n",
      "\n",
      "Mean absolute error is : 0.9379620484018711\n",
      "Root mean squared error is : 1.3143747052510846\n",
      "Mean Absolute percentage error is : 0.8607112965206155\n"
     ]
    }
   ],
   "source": [
    "# Trying Decision Tree\n",
    "\n",
    "dt3 = tree.DecisionTreeRegressor(max_depth=4)\n",
    "dt3.fit(X3_train, y3_train)\n",
    "\n",
    "predictions_dt3 = dt3.predict(X3_test)\n",
    "\n",
    "print(f\"R-squared of training data is : {dt3.score(X3_train, y3_train)}\")\n",
    "print(f\"R-squared of test data is : {dt3.score(X3_test, y3_test)} \\n\")\n",
    "\n",
    "print(f'Mean absolute error is : {mean_absolute_error(y3_test, predictions_dt3)}')\n",
    "print(f'Root mean squared error is : {np.sqrt(mean_squared_error(y3_test, predictions_dt3))}')\n",
    "print(f'Mean Absolute percentage error is : {mean_absolute_percentage_error(y3_test, predictions_dt3)}')"
   ]
  },
  {
   "cell_type": "code",
   "execution_count": 64,
   "metadata": {},
   "outputs": [
    {
     "name": "stdout",
     "output_type": "stream",
     "text": [
      "R-squared of training data is : 0.6364217531129408\n",
      "R-squared of test data is : 0.5468067688220881 \n",
      "\n",
      "Mean absolute error is : 0.859228040460747\n",
      "Root mean squared error is : 1.2187472528323238\n",
      "Mean Absolute percentage error is : 0.8415763194862748\n"
     ]
    }
   ],
   "source": [
    "# Trying Random Forest\n",
    "\n",
    "rf3 = ensemble.RandomForestRegressor(max_depth=4)\n",
    "rf3.fit(X3_train, y3_train)\n",
    "\n",
    "predictions_rf3 = rf3.predict(X3_test)\n",
    "\n",
    "print(f\"R-squared of training data is : {rf3.score(X3_train, y3_train)}\")\n",
    "print(f\"R-squared of test data is : {rf3.score(X3_test, y3_test)} \\n\")\n",
    "\n",
    "print(f'Mean absolute error is : {mean_absolute_error(y3_test, predictions_rf3)}')\n",
    "print(f'Root mean squared error is : {np.sqrt(mean_squared_error(y3_test, predictions_rf3))}')\n",
    "print(f'Mean Absolute percentage error is : {mean_absolute_percentage_error(y3_test, predictions_rf3)}')"
   ]
  },
  {
   "cell_type": "code",
   "execution_count": 65,
   "metadata": {},
   "outputs": [
    {
     "name": "stdout",
     "output_type": "stream",
     "text": [
      "The time taken is : 0.5479390621185303 seconds \n",
      "\n",
      "R-squared of training data is : 0.7782598515419326\n",
      "R-squared of test data is : 0.6694957759380065 \n",
      "\n",
      "Mean absolute error is : 0.7334671095803089\n",
      "Root mean squared error is : 1.0407836224427904\n",
      "Mean Absolute percentage error is : 0.6416704844896397\n"
     ]
    }
   ],
   "source": [
    "# Trying Gradient Boost\n",
    "\n",
    "start_time = time.time()\n",
    "gbr3 = ensemble.GradientBoostingRegressor(n_estimators=100,\n",
    "                                     max_depth=3,\n",
    "                                     )\n",
    "\n",
    "gbr3.fit(X3_train, y3_train)\n",
    "predictions_gbr3 = gbr3.predict(X3_test)\n",
    "\n",
    "gbr_execution_3 = time.time() - start_time\n",
    "print(f\"The time taken is : {gbr_execution_3} seconds \\n\")\n",
    "\n",
    "print(f\"R-squared of training data is : {gbr3.score(X3_train, y3_train)}\")\n",
    "print(f\"R-squared of test data is : {gbr3.score(X3_test, y3_test)} \\n\")\n",
    "\n",
    "print(f'Mean absolute error is : {mean_absolute_error(y3_test, predictions_gbr3)}')\n",
    "print(f'Root mean squared error is : {np.sqrt(mean_squared_error(y3_test, predictions_gbr3))}')\n",
    "print(f'Mean Absolute percentage error is : {mean_absolute_percentage_error(y3_test, predictions_gbr3)}')"
   ]
  },
  {
   "cell_type": "code",
   "execution_count": 66,
   "metadata": {},
   "outputs": [],
   "source": [
    "performance_df['LR3'] = [lr3.score(X3_train, y3_train), lr3.score(X3_test, y3_test), \n",
    "                        mean_absolute_error(y3_test, predictions_lr3), np.sqrt(mean_squared_error(y3_test, predictions_lr3)),\n",
    "                       mean_absolute_percentage_error(y3_test, predictions_lr3)]\n",
    "\n",
    "performance_df['DT3'] = [dt3.score(X3_train, y3_train), dt3.score(X3_test, y3_test), \n",
    "                        mean_absolute_error(y3_test, predictions_dt3), np.sqrt(mean_squared_error(y3_test, predictions_dt3)),\n",
    "                       mean_absolute_percentage_error(y3_test, predictions_dt3)]\n",
    "\n",
    "performance_df['RF3'] = [rf3.score(X3_train, y3_train), rf3.score(X3_test, y3_test), \n",
    "                        mean_absolute_error(y3_test, predictions_rf3), np.sqrt(mean_squared_error(y3_test, predictions_rf3)),\n",
    "                       mean_absolute_percentage_error(y3_test, predictions_rf3)]\n",
    "\n",
    "performance_df['GBR3'] = [gbr3.score(X3_train, y3_train), gbr3.score(X3_test, y3_test), \n",
    "                        mean_absolute_error(y3_test, predictions_gbr3), np.sqrt(mean_squared_error(y3_test, predictions_gbr3)),\n",
    "                       mean_absolute_percentage_error(y3_test, predictions_gbr3)]"
   ]
  },
  {
   "cell_type": "code",
   "execution_count": 67,
   "metadata": {},
   "outputs": [
    {
     "data": {
      "text/html": [
       "<div>\n",
       "<style scoped>\n",
       "    .dataframe tbody tr th:only-of-type {\n",
       "        vertical-align: middle;\n",
       "    }\n",
       "\n",
       "    .dataframe tbody tr th {\n",
       "        vertical-align: top;\n",
       "    }\n",
       "\n",
       "    .dataframe thead th {\n",
       "        text-align: right;\n",
       "    }\n",
       "</style>\n",
       "<table border=\"1\" class=\"dataframe\">\n",
       "  <thead>\n",
       "    <tr style=\"text-align: right;\">\n",
       "      <th></th>\n",
       "      <th>GBR</th>\n",
       "      <th>GBR1</th>\n",
       "      <th>GBR2</th>\n",
       "      <th>GBR3</th>\n",
       "    </tr>\n",
       "  </thead>\n",
       "  <tbody>\n",
       "    <tr>\n",
       "      <th>R-squared training</th>\n",
       "      <td>0.922480</td>\n",
       "      <td>0.848507</td>\n",
       "      <td>0.832227</td>\n",
       "      <td>0.778260</td>\n",
       "    </tr>\n",
       "    <tr>\n",
       "      <th>R-squared test</th>\n",
       "      <td>0.716161</td>\n",
       "      <td>0.688983</td>\n",
       "      <td>0.540059</td>\n",
       "      <td>0.669496</td>\n",
       "    </tr>\n",
       "    <tr>\n",
       "      <th>MAE</th>\n",
       "      <td>0.707504</td>\n",
       "      <td>0.712344</td>\n",
       "      <td>0.885909</td>\n",
       "      <td>0.733467</td>\n",
       "    </tr>\n",
       "    <tr>\n",
       "      <th>RMSE</th>\n",
       "      <td>1.011447</td>\n",
       "      <td>1.048636</td>\n",
       "      <td>1.256104</td>\n",
       "      <td>1.040784</td>\n",
       "    </tr>\n",
       "    <tr>\n",
       "      <th>MAPE</th>\n",
       "      <td>0.598596</td>\n",
       "      <td>0.692357</td>\n",
       "      <td>0.752583</td>\n",
       "      <td>0.641670</td>\n",
       "    </tr>\n",
       "  </tbody>\n",
       "</table>\n",
       "</div>"
      ],
      "text/plain": [
       "                         GBR      GBR1      GBR2      GBR3\n",
       "R-squared training  0.922480  0.848507  0.832227  0.778260\n",
       "R-squared test      0.716161  0.688983  0.540059  0.669496\n",
       "MAE                 0.707504  0.712344  0.885909  0.733467\n",
       "RMSE                1.011447  1.048636  1.256104  1.040784\n",
       "MAPE                0.598596  0.692357  0.752583  0.641670"
      ]
     },
     "execution_count": 67,
     "metadata": {},
     "output_type": "execute_result"
    }
   ],
   "source": [
    "performance_df = performance_df[['LR', 'LR1', 'LR2', 'LR3', 'DT', 'DT1', 'DT2', 'DT3', 'RF', 'RF1', 'RF2', 'RF3', 'GBR',\n",
    "       'GBR1', 'GBR2', 'GBR3']]\n",
    "\n",
    "# Viewing the performance of Gradient boost models across the 4 datasets\n",
    "\n",
    "performance_df[['GBR', 'GBR1', 'GBR2', 'GBR3']]"
   ]
  },
  {
   "cell_type": "code",
   "execution_count": 68,
   "metadata": {},
   "outputs": [
    {
     "name": "stdout",
     "output_type": "stream",
     "text": [
      "Time taken for GBR : 4.965423822402954 seconds\n",
      "Time taken for GBR1 : 1.2084028720855713 seconds\n",
      "Time taken for GBR2 : 2.4607198238372803 seconds\n",
      "Time taken for GBR3 : 0.5479390621185303 seconds\n"
     ]
    }
   ],
   "source": [
    "# The time taken for each of the 4 models\n",
    "\n",
    "print(f\"Time taken for GBR : {gbr_execution_og} seconds\")\n",
    "print(f\"Time taken for GBR1 : {gbr_execution_1} seconds\")\n",
    "print(f\"Time taken for GBR2 : {gbr_execution_2} seconds\")\n",
    "print(f\"Time taken for GBR3 : {gbr_execution_3} seconds\")"
   ]
  },
  {
   "cell_type": "code",
   "execution_count": 69,
   "metadata": {
    "scrolled": true
   },
   "outputs": [
    {
     "data": {
      "text/plain": [
       "count    3191.000000\n",
       "mean        2.078919\n",
       "std         1.822348\n",
       "min         0.020000\n",
       "25%         0.695000\n",
       "50%         1.540000\n",
       "75%         3.000000\n",
       "max        12.150000\n",
       "Name: reviews_per_month, dtype: float64"
      ]
     },
     "execution_count": 69,
     "metadata": {},
     "output_type": "execute_result"
    }
   ],
   "source": [
    "# Getting the stats of the target variable\n",
    "\n",
    "y.describe()"
   ]
  },
  {
   "cell_type": "markdown",
   "metadata": {},
   "source": [
    "### Observations\n",
    "\n",
    "- The best performing model in terms of accuracy is the one on the original dataset. with 100+ features\n",
    "- However, the execution time is extremely high at close to 5 seconds\n",
    "- Of the optimised models, GBR3 has the best mix of accuracy and execution time - an order of magnitude faster than \n",
    "the original model"
   ]
  },
  {
   "cell_type": "markdown",
   "metadata": {},
   "source": [
    "## Tuning the model with GridSearch and RandomSearch"
   ]
  },
  {
   "cell_type": "markdown",
   "metadata": {},
   "source": [
    "### Trying Grid Search CV"
   ]
  },
  {
   "cell_type": "code",
   "execution_count": 70,
   "metadata": {},
   "outputs": [
    {
     "name": "stdout",
     "output_type": "stream",
     "text": [
      "Execution time is : 34.43618202209473 seconds\n"
     ]
    }
   ],
   "source": [
    "# Trying to optimise for learning rate and max_depth of the residual trees\n",
    "\n",
    "from sklearn.model_selection import GridSearchCV\n",
    "\n",
    "start_time = time.time()\n",
    "learning_rate = [x for x in np.arange(0.1, 1, 0.1)]\n",
    "max_depth = [3, 4, 5]\n",
    "\n",
    "parameters = dict(learning_rate = learning_rate, max_depth=max_depth)\n",
    "gbr_grid = ensemble.GradientBoostingRegressor(n_estimators=100)\n",
    "\n",
    "grid = GridSearchCV(estimator=gbr_grid, param_grid=parameters, cv=3)\n",
    "\n",
    "grid_results = grid.fit(X3_train, y3_train)\n",
    "print(f\"Execution time is : {time.time() - start_time} seconds\")"
   ]
  },
  {
   "cell_type": "code",
   "execution_count": 71,
   "metadata": {},
   "outputs": [
    {
     "name": "stdout",
     "output_type": "stream",
     "text": [
      "The best parameters are : {'learning_rate': 0.1, 'max_depth': 5} \n",
      "\n",
      "The best score is : 0.6890413900971321\n"
     ]
    }
   ],
   "source": [
    "print(f\"The best parameters are : {grid_results.best_params_} \\n\")\n",
    "print(f\"The best score is : {grid_results.best_score_}\")"
   ]
  },
  {
   "cell_type": "code",
   "execution_count": 72,
   "metadata": {
    "scrolled": true
   },
   "outputs": [
    {
     "data": {
      "text/plain": [
       "{'mean_fit_time': array([0.31764396, 0.42535734, 0.48542134, 0.30534498, 0.39941478,\n",
       "        0.50190862, 0.38179938, 0.45253809, 0.54304624, 0.33932241,\n",
       "        0.48155125, 0.51526944, 0.3024141 , 0.39229449, 0.47977233,\n",
       "        0.31561963, 0.39148402, 0.48357256, 0.30281234, 0.4002289 ,\n",
       "        0.48457019, 0.32893427, 0.39083441, 0.48737454, 0.30647127,\n",
       "        0.39134526, 0.48033897]),\n",
       " 'std_fit_time': array([0.00997478, 0.02753052, 0.00450953, 0.00513631, 0.00671873,\n",
       "        0.01428211, 0.01327028, 0.01485818, 0.0068382 , 0.00905859,\n",
       "        0.03589035, 0.02079584, 0.0006717 , 0.0030443 , 0.0036778 ,\n",
       "        0.00716297, 0.00192071, 0.00648373, 0.001832  , 0.0077792 ,\n",
       "        0.00263357, 0.01705247, 0.00179502, 0.01261194, 0.00655328,\n",
       "        0.00216969, 0.002647  ]),\n",
       " 'mean_score_time': array([0.00435297, 0.0041333 , 0.00493161, 0.00387152, 0.00420197,\n",
       "        0.00485961, 0.00502793, 0.00479499, 0.00547671, 0.00429622,\n",
       "        0.00644843, 0.00494568, 0.00366457, 0.00528256, 0.00463144,\n",
       "        0.00383933, 0.00410843, 0.00462818, 0.00380866, 0.0050594 ,\n",
       "        0.00459464, 0.00478466, 0.00419466, 0.00466792, 0.00367101,\n",
       "        0.0041786 , 0.00469335]),\n",
       " 'std_score_time': array([1.18458343e-04, 1.06006190e-04, 1.25797429e-04, 6.84127931e-05,\n",
       "        7.76220823e-05, 3.34051931e-04, 9.92918904e-04, 1.62341442e-04,\n",
       "        5.35876294e-04, 3.75965781e-04, 1.14043334e-03, 7.01886192e-05,\n",
       "        9.37548706e-05, 1.62192407e-03, 4.52502859e-05, 2.79551949e-04,\n",
       "        1.18518896e-04, 3.01780477e-04, 9.20395223e-05, 1.01716637e-03,\n",
       "        1.66304132e-04, 1.31858849e-03, 1.86053009e-04, 5.57866643e-05,\n",
       "        9.03029231e-05, 2.68384660e-04, 7.93740135e-05]),\n",
       " 'param_learning_rate': masked_array(data=[0.1, 0.1, 0.1, 0.2, 0.2, 0.2, 0.30000000000000004,\n",
       "                    0.30000000000000004, 0.30000000000000004, 0.4, 0.4,\n",
       "                    0.4, 0.5, 0.5, 0.5, 0.6, 0.6, 0.6, 0.7000000000000001,\n",
       "                    0.7000000000000001, 0.7000000000000001, 0.8, 0.8, 0.8,\n",
       "                    0.9, 0.9, 0.9],\n",
       "              mask=[False, False, False, False, False, False, False, False,\n",
       "                    False, False, False, False, False, False, False, False,\n",
       "                    False, False, False, False, False, False, False, False,\n",
       "                    False, False, False],\n",
       "        fill_value='?',\n",
       "             dtype=object),\n",
       " 'param_max_depth': masked_array(data=[3, 4, 5, 3, 4, 5, 3, 4, 5, 3, 4, 5, 3, 4, 5, 3, 4, 5,\n",
       "                    3, 4, 5, 3, 4, 5, 3, 4, 5],\n",
       "              mask=[False, False, False, False, False, False, False, False,\n",
       "                    False, False, False, False, False, False, False, False,\n",
       "                    False, False, False, False, False, False, False, False,\n",
       "                    False, False, False],\n",
       "        fill_value='?',\n",
       "             dtype=object),\n",
       " 'params': [{'learning_rate': 0.1, 'max_depth': 3},\n",
       "  {'learning_rate': 0.1, 'max_depth': 4},\n",
       "  {'learning_rate': 0.1, 'max_depth': 5},\n",
       "  {'learning_rate': 0.2, 'max_depth': 3},\n",
       "  {'learning_rate': 0.2, 'max_depth': 4},\n",
       "  {'learning_rate': 0.2, 'max_depth': 5},\n",
       "  {'learning_rate': 0.30000000000000004, 'max_depth': 3},\n",
       "  {'learning_rate': 0.30000000000000004, 'max_depth': 4},\n",
       "  {'learning_rate': 0.30000000000000004, 'max_depth': 5},\n",
       "  {'learning_rate': 0.4, 'max_depth': 3},\n",
       "  {'learning_rate': 0.4, 'max_depth': 4},\n",
       "  {'learning_rate': 0.4, 'max_depth': 5},\n",
       "  {'learning_rate': 0.5, 'max_depth': 3},\n",
       "  {'learning_rate': 0.5, 'max_depth': 4},\n",
       "  {'learning_rate': 0.5, 'max_depth': 5},\n",
       "  {'learning_rate': 0.6, 'max_depth': 3},\n",
       "  {'learning_rate': 0.6, 'max_depth': 4},\n",
       "  {'learning_rate': 0.6, 'max_depth': 5},\n",
       "  {'learning_rate': 0.7000000000000001, 'max_depth': 3},\n",
       "  {'learning_rate': 0.7000000000000001, 'max_depth': 4},\n",
       "  {'learning_rate': 0.7000000000000001, 'max_depth': 5},\n",
       "  {'learning_rate': 0.8, 'max_depth': 3},\n",
       "  {'learning_rate': 0.8, 'max_depth': 4},\n",
       "  {'learning_rate': 0.8, 'max_depth': 5},\n",
       "  {'learning_rate': 0.9, 'max_depth': 3},\n",
       "  {'learning_rate': 0.9, 'max_depth': 4},\n",
       "  {'learning_rate': 0.9, 'max_depth': 5}],\n",
       " 'split0_test_score': array([0.67996432, 0.68716555, 0.69566436, 0.6719788 , 0.6738735 ,\n",
       "        0.676177  , 0.67072136, 0.66370702, 0.64536438, 0.65413941,\n",
       "        0.62810473, 0.65564486, 0.63336022, 0.64093739, 0.60202439,\n",
       "        0.59534556, 0.60878075, 0.59420179, 0.59165756, 0.57246418,\n",
       "        0.57033731, 0.58320762, 0.53899713, 0.52984062, 0.54630316,\n",
       "        0.52072586, 0.46165591]),\n",
       " 'split1_test_score': array([0.6982003 , 0.70874244, 0.70274572, 0.69459598, 0.6780851 ,\n",
       "        0.68487403, 0.66795348, 0.66393359, 0.64598047, 0.65206675,\n",
       "        0.62723911, 0.61755992, 0.64029943, 0.60493657, 0.5765456 ,\n",
       "        0.58796262, 0.53485245, 0.56300211, 0.58655981, 0.47962116,\n",
       "        0.47016678, 0.5606105 , 0.50807693, 0.44500717, 0.43804982,\n",
       "        0.38617502, 0.38607773]),\n",
       " 'split2_test_score': array([0.66041724, 0.66492342, 0.66871409, 0.66029458, 0.65526607,\n",
       "        0.6481331 , 0.64676695, 0.643014  , 0.62248084, 0.62234845,\n",
       "        0.62937766, 0.60453583, 0.62716221, 0.60786044, 0.56761062,\n",
       "        0.58964946, 0.55850555, 0.53227295, 0.54848104, 0.51220811,\n",
       "        0.48988423, 0.51694137, 0.48736857, 0.45259614, 0.49781979,\n",
       "        0.46754328, 0.34869824]),\n",
       " 'mean_test_score': array([0.67952729, 0.6869438 , 0.68904139, 0.67562312, 0.66907489,\n",
       "        0.66972804, 0.66181393, 0.65688487, 0.6379419 , 0.64285154,\n",
       "        0.6282405 , 0.62591354, 0.63360729, 0.61791146, 0.5820602 ,\n",
       "        0.59098588, 0.56737958, 0.56315895, 0.57556614, 0.52143115,\n",
       "        0.51012944, 0.55358649, 0.51148088, 0.47581464, 0.49405759,\n",
       "        0.45814805, 0.39881063]),\n",
       " 'std_test_score': array([0.01542796, 0.01788973, 0.01466142, 0.01423862, 0.00991454,\n",
       "        0.01567728, 0.01069965, 0.00980862, 0.01093551, 0.01452254,\n",
       "        0.00087832, 0.02168518, 0.00536609, 0.01632548, 0.01458047,\n",
       "        0.00315874, 0.0308265 , 0.02528259, 0.0192648 , 0.03845998,\n",
       "        0.04332771, 0.02750523, 0.02121426, 0.03832756, 0.04427423,\n",
       "        0.05533043, 0.04698549]),\n",
       " 'rank_test_score': array([ 3,  2,  1,  4,  6,  5,  7,  8, 10,  9, 12, 13, 11, 14, 16, 15, 18,\n",
       "        19, 17, 21, 23, 20, 22, 25, 24, 26, 27], dtype=int32)}"
      ]
     },
     "execution_count": 72,
     "metadata": {},
     "output_type": "execute_result"
    }
   ],
   "source": [
    "grid_results.cv_results_"
   ]
  },
  {
   "cell_type": "code",
   "execution_count": 73,
   "metadata": {},
   "outputs": [
    {
     "name": "stdout",
     "output_type": "stream",
     "text": [
      "The execution time is : 0.7394721508026123 seconds\n",
      "R-squared of training data is : 0.8869992336697035\n",
      "R-squared of test data is : 0.6968814310931062 \n",
      "\n",
      "Mean absolute error is : 0.697801042512133\n",
      "Root mean squared error is : 0.9967315682637611\n",
      "Mean Absolute percentage error is : 0.6153648516907071\n"
     ]
    }
   ],
   "source": [
    "# testing based on the best parameters from gridsearchcv\n",
    "\n",
    "start_time = time.time()\n",
    "gbr4 = ensemble.GradientBoostingRegressor(n_estimators=100,\n",
    "                                     max_depth=5, learning_rate=0.1\n",
    "                                     )\n",
    "\n",
    "gbr4.fit(X3_train, y3_train)\n",
    "predictions_gbr4 = gbr4.predict(X3_test)\n",
    "\n",
    "print(f\"The execution time is : {time.time()-start_time} seconds\")\n",
    "print(f\"R-squared of training data is : {gbr4.score(X3_train, y3_train)}\")\n",
    "print(f\"R-squared of test data is : {gbr4.score(X3_test, y3_test)} \\n\")\n",
    "\n",
    "print(f'Mean absolute error is : {mean_absolute_error(y3_test, predictions_gbr4)}')\n",
    "print(f'Root mean squared error is : {np.sqrt(mean_squared_error(y3_test, predictions_gbr4))}')\n",
    "print(f'Mean Absolute percentage error is : {mean_absolute_percentage_error(y3_test, predictions_gbr4)}')"
   ]
  },
  {
   "cell_type": "code",
   "execution_count": 87,
   "metadata": {},
   "outputs": [
    {
     "data": {
      "image/png": "[encoded data removed]",
      "text/plain": [
       "<Figure size 432x288 with 1 Axes>"
      ]
     },
     "metadata": {
      "needs_background": "light"
     },
     "output_type": "display_data"
    }
   ],
   "source": [
    "plt.scatter(y3_test, predictions_gbr4)\n",
    "plt.xlabel('Actual')\n",
    "plt.ylabel('Predicted')\n",
    "plt.title('Actual vs Predicted - GridSearch Model')\n",
    "plt.show()"
   ]
  },
  {
   "cell_type": "code",
   "execution_count": 77,
   "metadata": {},
   "outputs": [
    {
     "name": "stdout",
     "output_type": "stream",
     "text": [
      "[0.69465851 0.70728607 0.61989013 0.68231333 0.63646122] \n",
      "\n",
      "0.6681218528913606\n",
      "0.033965047935759884\n"
     ]
    }
   ],
   "source": [
    "\n",
    "gbr_cv = ensemble.GradientBoostingRegressor(n_estimators=100,\n",
    "                                     max_depth=5, learning_rate=0.1\n",
    "                                     )\n",
    "gbr_cross_vals = cross_val_score(gbr_cv, X3, y, cv=5)\n",
    "\n",
    "print(gbr_cross_vals, '\\n')\n",
    "print(gbr_cross_vals.mean())\n",
    "print(gbr_cross_vals.std())"
   ]
  },
  {
   "cell_type": "code",
   "execution_count": 78,
   "metadata": {},
   "outputs": [
    {
     "name": "stderr",
     "output_type": "stream",
     "text": [
      "<ipython-input-78-88b78521873e>:3: SettingWithCopyWarning: \n",
      "A value is trying to be set on a copy of a slice from a DataFrame.\n",
      "Try using .loc[row_indexer,col_indexer] = value instead\n",
      "\n",
      "See the caveats in the documentation: https://pandas.pydata.org/pandas-docs/stable/user_guide/indexing.html#returning-a-view-versus-a-copy\n",
      "  performance_df['GBR_grid'] = [gbr4.score(X3_train, y3_train), gbr4.score(X3_test, y3_test),\n"
     ]
    },
    {
     "data": {
      "text/html": [
       "<div>\n",
       "<style scoped>\n",
       "    .dataframe tbody tr th:only-of-type {\n",
       "        vertical-align: middle;\n",
       "    }\n",
       "\n",
       "    .dataframe tbody tr th {\n",
       "        vertical-align: top;\n",
       "    }\n",
       "\n",
       "    .dataframe thead th {\n",
       "        text-align: right;\n",
       "    }\n",
       "</style>\n",
       "<table border=\"1\" class=\"dataframe\">\n",
       "  <thead>\n",
       "    <tr style=\"text-align: right;\">\n",
       "      <th></th>\n",
       "      <th>LR</th>\n",
       "      <th>LR1</th>\n",
       "      <th>LR2</th>\n",
       "      <th>LR3</th>\n",
       "      <th>DT</th>\n",
       "      <th>DT1</th>\n",
       "      <th>DT2</th>\n",
       "      <th>DT3</th>\n",
       "      <th>RF</th>\n",
       "      <th>RF1</th>\n",
       "      <th>RF2</th>\n",
       "      <th>RF3</th>\n",
       "      <th>GBR</th>\n",
       "      <th>GBR1</th>\n",
       "      <th>GBR2</th>\n",
       "      <th>GBR3</th>\n",
       "      <th>GBR_grid</th>\n",
       "    </tr>\n",
       "  </thead>\n",
       "  <tbody>\n",
       "    <tr>\n",
       "      <th>R-squared training</th>\n",
       "      <td>0.575967</td>\n",
       "      <td>0.459530</td>\n",
       "      <td>0.492694</td>\n",
       "      <td>0.498440</td>\n",
       "      <td>0.570801</td>\n",
       "      <td>0.544450</td>\n",
       "      <td>0.508190</td>\n",
       "      <td>0.563401</td>\n",
       "      <td>0.634833</td>\n",
       "      <td>0.628181</td>\n",
       "      <td>0.546776</td>\n",
       "      <td>0.636422</td>\n",
       "      <td>0.922480</td>\n",
       "      <td>0.848507</td>\n",
       "      <td>0.832227</td>\n",
       "      <td>0.778260</td>\n",
       "      <td>0.886999</td>\n",
       "    </tr>\n",
       "    <tr>\n",
       "      <th>R-squared test</th>\n",
       "      <td>0.470794</td>\n",
       "      <td>0.529989</td>\n",
       "      <td>0.440743</td>\n",
       "      <td>-0.653806</td>\n",
       "      <td>0.507378</td>\n",
       "      <td>0.563560</td>\n",
       "      <td>0.407103</td>\n",
       "      <td>0.472898</td>\n",
       "      <td>0.593276</td>\n",
       "      <td>0.626700</td>\n",
       "      <td>0.486772</td>\n",
       "      <td>0.546807</td>\n",
       "      <td>0.716161</td>\n",
       "      <td>0.688983</td>\n",
       "      <td>0.540059</td>\n",
       "      <td>0.669496</td>\n",
       "      <td>0.696881</td>\n",
       "    </tr>\n",
       "    <tr>\n",
       "      <th>MAE</th>\n",
       "      <td>0.930490</td>\n",
       "      <td>0.964699</td>\n",
       "      <td>1.002992</td>\n",
       "      <td>1.022799</td>\n",
       "      <td>0.925688</td>\n",
       "      <td>0.895298</td>\n",
       "      <td>1.011768</td>\n",
       "      <td>0.937962</td>\n",
       "      <td>0.846127</td>\n",
       "      <td>0.824581</td>\n",
       "      <td>0.939816</td>\n",
       "      <td>0.859228</td>\n",
       "      <td>0.707504</td>\n",
       "      <td>0.712344</td>\n",
       "      <td>0.885909</td>\n",
       "      <td>0.733467</td>\n",
       "      <td>0.697801</td>\n",
       "    </tr>\n",
       "    <tr>\n",
       "      <th>RMSE</th>\n",
       "      <td>1.381082</td>\n",
       "      <td>1.289100</td>\n",
       "      <td>1.385096</td>\n",
       "      <td>2.328167</td>\n",
       "      <td>1.332490</td>\n",
       "      <td>1.242209</td>\n",
       "      <td>1.426146</td>\n",
       "      <td>1.314375</td>\n",
       "      <td>1.210758</td>\n",
       "      <td>1.148846</td>\n",
       "      <td>1.326874</td>\n",
       "      <td>1.218747</td>\n",
       "      <td>1.011447</td>\n",
       "      <td>1.048636</td>\n",
       "      <td>1.256104</td>\n",
       "      <td>1.040784</td>\n",
       "      <td>0.996732</td>\n",
       "    </tr>\n",
       "    <tr>\n",
       "      <th>MAPE</th>\n",
       "      <td>0.949139</td>\n",
       "      <td>1.274281</td>\n",
       "      <td>1.117951</td>\n",
       "      <td>1.257302</td>\n",
       "      <td>0.848837</td>\n",
       "      <td>1.075209</td>\n",
       "      <td>0.981765</td>\n",
       "      <td>0.860711</td>\n",
       "      <td>0.833847</td>\n",
       "      <td>1.008326</td>\n",
       "      <td>0.942122</td>\n",
       "      <td>0.841576</td>\n",
       "      <td>0.598596</td>\n",
       "      <td>0.692357</td>\n",
       "      <td>0.752583</td>\n",
       "      <td>0.641670</td>\n",
       "      <td>0.615365</td>\n",
       "    </tr>\n",
       "  </tbody>\n",
       "</table>\n",
       "</div>"
      ],
      "text/plain": [
       "                          LR       LR1       LR2       LR3        DT  \\\n",
       "R-squared training  0.575967  0.459530  0.492694  0.498440  0.570801   \n",
       "R-squared test      0.470794  0.529989  0.440743 -0.653806  0.507378   \n",
       "MAE                 0.930490  0.964699  1.002992  1.022799  0.925688   \n",
       "RMSE                1.381082  1.289100  1.385096  2.328167  1.332490   \n",
       "MAPE                0.949139  1.274281  1.117951  1.257302  0.848837   \n",
       "\n",
       "                         DT1       DT2       DT3        RF       RF1  \\\n",
       "R-squared training  0.544450  0.508190  0.563401  0.634833  0.628181   \n",
       "R-squared test      0.563560  0.407103  0.472898  0.593276  0.626700   \n",
       "MAE                 0.895298  1.011768  0.937962  0.846127  0.824581   \n",
       "RMSE                1.242209  1.426146  1.314375  1.210758  1.148846   \n",
       "MAPE                1.075209  0.981765  0.860711  0.833847  1.008326   \n",
       "\n",
       "                         RF2       RF3       GBR      GBR1      GBR2  \\\n",
       "R-squared training  0.546776  0.636422  0.922480  0.848507  0.832227   \n",
       "R-squared test      0.486772  0.546807  0.716161  0.688983  0.540059   \n",
       "MAE                 0.939816  0.859228  0.707504  0.712344  0.885909   \n",
       "RMSE                1.326874  1.218747  1.011447  1.048636  1.256104   \n",
       "MAPE                0.942122  0.841576  0.598596  0.692357  0.752583   \n",
       "\n",
       "                        GBR3  GBR_grid  \n",
       "R-squared training  0.778260  0.886999  \n",
       "R-squared test      0.669496  0.696881  \n",
       "MAE                 0.733467  0.697801  \n",
       "RMSE                1.040784  0.996732  \n",
       "MAPE                0.641670  0.615365  "
      ]
     },
     "execution_count": 78,
     "metadata": {},
     "output_type": "execute_result"
    }
   ],
   "source": [
    "# adding the result to the performance comparison dataframe\n",
    "\n",
    "performance_df['GBR_grid'] = [gbr4.score(X3_train, y3_train), gbr4.score(X3_test, y3_test), \n",
    "                        mean_absolute_error(y3_test, predictions_gbr4), np.sqrt(mean_squared_error(y3_test, predictions_gbr4)),\n",
    "                       mean_absolute_percentage_error(y3_test, predictions_gbr4)]\n",
    "\n",
    "performance_df"
   ]
  },
  {
   "cell_type": "markdown",
   "metadata": {},
   "source": [
    "### Trying Random Search CV"
   ]
  },
  {
   "cell_type": "code",
   "execution_count": 79,
   "metadata": {},
   "outputs": [
    {
     "name": "stdout",
     "output_type": "stream",
     "text": [
      "Execution time is : 11.65114974975586\n"
     ]
    }
   ],
   "source": [
    "from sklearn.model_selection import RandomizedSearchCV\n",
    "\n",
    "random = RandomizedSearchCV(estimator=gbr_grid, param_distributions=parameters, cv=3, n_jobs=-1)\n",
    "\n",
    "start_time = time.time()\n",
    "random_result = random.fit(X3_test, y3_test)\n",
    "\n",
    "print(f\"Execution time is : {time.time() - start_time}\")"
   ]
  },
  {
   "cell_type": "code",
   "execution_count": 80,
   "metadata": {
    "scrolled": false
   },
   "outputs": [
    {
     "name": "stdout",
     "output_type": "stream",
     "text": [
      "{'max_depth': 4, 'learning_rate': 0.1} \n",
      "\n",
      "0.5823268677001012 \n",
      "\n"
     ]
    }
   ],
   "source": [
    "print(random_result.best_params_, '\\n')\n",
    "print(random_result.best_score_, '\\n')"
   ]
  },
  {
   "cell_type": "markdown",
   "metadata": {},
   "source": [
    "### Random search has not given better results than Grid Search, so discarding the result"
   ]
  },
  {
   "cell_type": "markdown",
   "metadata": {},
   "source": [
    "## Conclusion"
   ]
  },
  {
   "cell_type": "markdown",
   "metadata": {},
   "source": [
    "### 1. Accuracy and Performance"
   ]
  },
  {
   "cell_type": "code",
   "execution_count": 81,
   "metadata": {
    "scrolled": true
   },
   "outputs": [
    {
     "data": {
      "text/html": [
       "<div>\n",
       "<style scoped>\n",
       "    .dataframe tbody tr th:only-of-type {\n",
       "        vertical-align: middle;\n",
       "    }\n",
       "\n",
       "    .dataframe tbody tr th {\n",
       "        vertical-align: top;\n",
       "    }\n",
       "\n",
       "    .dataframe thead th {\n",
       "        text-align: right;\n",
       "    }\n",
       "</style>\n",
       "<table border=\"1\" class=\"dataframe\">\n",
       "  <thead>\n",
       "    <tr style=\"text-align: right;\">\n",
       "      <th></th>\n",
       "      <th>GBR</th>\n",
       "      <th>GBR1</th>\n",
       "      <th>GBR2</th>\n",
       "      <th>GBR3</th>\n",
       "      <th>GBR_grid</th>\n",
       "    </tr>\n",
       "  </thead>\n",
       "  <tbody>\n",
       "    <tr>\n",
       "      <th>R-squared training</th>\n",
       "      <td>0.922480</td>\n",
       "      <td>0.848507</td>\n",
       "      <td>0.832227</td>\n",
       "      <td>0.778260</td>\n",
       "      <td>0.886999</td>\n",
       "    </tr>\n",
       "    <tr>\n",
       "      <th>R-squared test</th>\n",
       "      <td>0.716161</td>\n",
       "      <td>0.688983</td>\n",
       "      <td>0.540059</td>\n",
       "      <td>0.669496</td>\n",
       "      <td>0.696881</td>\n",
       "    </tr>\n",
       "    <tr>\n",
       "      <th>MAE</th>\n",
       "      <td>0.707504</td>\n",
       "      <td>0.712344</td>\n",
       "      <td>0.885909</td>\n",
       "      <td>0.733467</td>\n",
       "      <td>0.697801</td>\n",
       "    </tr>\n",
       "    <tr>\n",
       "      <th>RMSE</th>\n",
       "      <td>1.011447</td>\n",
       "      <td>1.048636</td>\n",
       "      <td>1.256104</td>\n",
       "      <td>1.040784</td>\n",
       "      <td>0.996732</td>\n",
       "    </tr>\n",
       "    <tr>\n",
       "      <th>MAPE</th>\n",
       "      <td>0.598596</td>\n",
       "      <td>0.692357</td>\n",
       "      <td>0.752583</td>\n",
       "      <td>0.641670</td>\n",
       "      <td>0.615365</td>\n",
       "    </tr>\n",
       "  </tbody>\n",
       "</table>\n",
       "</div>"
      ],
      "text/plain": [
       "                         GBR      GBR1      GBR2      GBR3  GBR_grid\n",
       "R-squared training  0.922480  0.848507  0.832227  0.778260  0.886999\n",
       "R-squared test      0.716161  0.688983  0.540059  0.669496  0.696881\n",
       "MAE                 0.707504  0.712344  0.885909  0.733467  0.697801\n",
       "RMSE                1.011447  1.048636  1.256104  1.040784  0.996732\n",
       "MAPE                0.598596  0.692357  0.752583  0.641670  0.615365"
      ]
     },
     "execution_count": 81,
     "metadata": {},
     "output_type": "execute_result"
    }
   ],
   "source": [
    "# This is how the models compare\n",
    "performance_df[['GBR', 'GBR1', 'GBR2', 'GBR3', 'GBR_grid']]"
   ]
  },
  {
   "cell_type": "markdown",
   "metadata": {},
   "source": [
    "- Although the full dataset offers the best explainability, there are models with better accuracy and performance\n",
    "- The grid search tuned model has managed to perform the best, while executing in an acceptable time of ~0.8 seconds"
   ]
  },
  {
   "cell_type": "code",
   "execution_count": 82,
   "metadata": {
    "scrolled": false
   },
   "outputs": [
    {
     "data": {
      "text/plain": [
       "count    3191.000000\n",
       "mean        2.078919\n",
       "std         1.822348\n",
       "min         0.020000\n",
       "25%         0.695000\n",
       "50%         1.540000\n",
       "75%         3.000000\n",
       "max        12.150000\n",
       "Name: reviews_per_month, dtype: float64"
      ]
     },
     "execution_count": 82,
     "metadata": {},
     "output_type": "execute_result"
    }
   ],
   "source": [
    "y.describe()"
   ]
  },
  {
   "cell_type": "markdown",
   "metadata": {},
   "source": [
    "- Assuming the target variables is notmally distributed, 99.7% of the reviews per month will be in the 0 to 7.54 range\n",
    "- Since our MAE is 0.69, this is a fairly accurate model for a large % of the listed properties"
   ]
  },
  {
   "cell_type": "markdown",
   "metadata": {},
   "source": [
    "### 2. Explainability"
   ]
  },
  {
   "cell_type": "code",
   "execution_count": 83,
   "metadata": {},
   "outputs": [
    {
     "data": {
      "image/png": "[encoded data removed]",
      "text/plain": [
       "<Figure size 432x288 with 1 Axes>"
      ]
     },
     "metadata": {
      "needs_background": "light"
     },
     "output_type": "display_data"
    }
   ],
   "source": [
    "feature_importance = gbr4.feature_importances_\n",
    "feature_importance = 100*(feature_importance/feature_importance.max())\n",
    "sorted_idx = np.argsort(feature_importance)\n",
    "pos = np.arange(sorted_idx.shape[0]) + .5\n",
    "plt.subplot(1, 2, 2)\n",
    "plt.barh(pos, feature_importance[sorted_idx], align='center')\n",
    "plt.yticks(pos, X.columns[sorted_idx])\n",
    "plt.xlabel('Relative Importance')\n",
    "plt.title('Importance of variables')\n",
    "plt.show()"
   ]
  },
  {
   "cell_type": "markdown",
   "metadata": {},
   "source": [
    "- We can see that the time since a property's host has been on the AirBnB platform is the largest determinant of the reviews per month\n",
    "- The next best determinants are : response rate, whether the host is a superhost and whether the host's identity has been verified"
   ]
  },
  {
   "cell_type": "markdown",
   "metadata": {},
   "source": [
    "### 3. Suggestions for property owners\n",
    "\n",
    "- For existing hosts, the important things is to maintain a high response rate and maintain their verified status, in order to ensure good business.\n",
    "\n",
    "- For new hosts, the time of listing unfortunately cannot be controlled, and is the biggest factor for getting bookings. However, they can still improve their chances by responding to booking requests quickly. They should also try to get their identity verified and reach a Superhost status as quickly as possible."
   ]
  }
 ],
 "metadata": {
  "kernelspec": {
   "display_name": "Python 3",
   "language": "python",
   "name": "python3"
  },
  "language_info": {
   "codemirror_mode": {
    "name": "ipython",
    "version": 3
   },
   "file_extension": ".py",
   "mimetype": "text/x-python",
   "name": "python",
   "nbconvert_exporter": "python",
   "pygments_lexer": "ipython3",
   "version": "3.8.5"
  }
 },
 "nbformat": 4,
 "nbformat_minor": 4
}
